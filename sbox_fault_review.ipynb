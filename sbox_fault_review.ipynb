{
 "cells": [
  {
   "cell_type": "code",
   "execution_count": 1,
   "metadata": {
    "collapsed": true
   },
   "outputs": [],
   "source": [
    "#only cosidering first 4*4 sbox"
   ]
  },
  {
   "cell_type": "code",
   "execution_count": 2,
   "metadata": {},
   "outputs": [
    {
     "data": {
      "text/plain": [
       "PyPlot"
      ]
     },
     "execution_count": 2,
     "metadata": {},
     "output_type": "execute_result"
    }
   ],
   "source": [
    "using zypto\n",
    "using DataFrames\n",
    "using PyPlot\n",
    "plt = PyPlot"
   ]
  },
  {
   "cell_type": "code",
   "execution_count": 13,
   "metadata": {
    "collapsed": true
   },
   "outputs": [],
   "source": [
    "sbox = [0xC, 0x5, 0x6, 0xB, 0x9, 0x0, 0xA, 0xD, \n",
    "0x3, 0xE, 0xF, 0x8, 0x4, 0x7, 0x1, 0x2];#this will be the sbox under consideration"
   ]
  },
  {
   "cell_type": "code",
   "execution_count": 14,
   "metadata": {},
   "outputs": [
    {
     "name": "stderr",
     "output_type": "stream",
     "text": [
      "\u001b[1m\u001b[33mWARNING: \u001b[39m\u001b[22m\u001b[33m`x $ y` is deprecated.  use `xor(x, y)` or `x ⊻ y` instead.\u001b[39m\n",
      "Stacktrace:\n",
      " [1] \u001b[1mdepwarn\u001b[22m\u001b[22m\u001b[1m(\u001b[22m\u001b[22m::String, ::Symbol\u001b[1m)\u001b[22m\u001b[22m at \u001b[1m./deprecated.jl:70\u001b[22m\u001b[22m\n",
      " [2] \u001b[1m$\u001b[22m\u001b[22m at \u001b[1m./deprecated.jl:376\u001b[22m\u001b[22m [inlined]\n",
      " [3] \u001b[1mmacro expansion\u001b[22m\u001b[22m at \u001b[1m./In[14]:14\u001b[22m\u001b[22m [inlined]\n",
      " [4] \u001b[1manonymous\u001b[22m\u001b[22m at \u001b[1m./<missing>:?\u001b[22m\u001b[22m\n",
      " [5] \u001b[1minclude_string\u001b[22m\u001b[22m\u001b[1m(\u001b[22m\u001b[22m::String, ::String\u001b[1m)\u001b[22m\u001b[22m at \u001b[1m./loading.jl:515\u001b[22m\u001b[22m\n",
      " [6] \u001b[1mexecute_request\u001b[22m\u001b[22m\u001b[1m(\u001b[22m\u001b[22m::ZMQ.Socket, ::IJulia.Msg\u001b[1m)\u001b[22m\u001b[22m at \u001b[1m/home/hesl/.julia/v0.6/IJulia/src/execute_request.jl:156\u001b[22m\u001b[22m\n",
      " [7] \u001b[1meventloop\u001b[22m\u001b[22m\u001b[1m(\u001b[22m\u001b[22m::ZMQ.Socket\u001b[1m)\u001b[22m\u001b[22m at \u001b[1m/home/hesl/.julia/v0.6/IJulia/src/eventloop.jl:8\u001b[22m\u001b[22m\n",
      " [8] \u001b[1m(::IJulia.##9#12)\u001b[22m\u001b[22m\u001b[1m(\u001b[22m\u001b[22m\u001b[1m)\u001b[22m\u001b[22m at \u001b[1m./task.jl:335\u001b[22m\u001b[22m\n",
      "while loading In[14], in expression starting on line 7\n",
      "\u001b[1m\u001b[33mWARNING: \u001b[39m\u001b[22m\u001b[33m`x $ y` is deprecated.  use `xor(x, y)` or `x ⊻ y` instead.\u001b[39m\n",
      "Stacktrace:\n",
      " [1] \u001b[1mdepwarn\u001b[22m\u001b[22m\u001b[1m(\u001b[22m\u001b[22m::String, ::Symbol\u001b[1m)\u001b[22m\u001b[22m at \u001b[1m./deprecated.jl:70\u001b[22m\u001b[22m\n",
      " [2] \u001b[1m$\u001b[22m\u001b[22m\u001b[1m(\u001b[22m\u001b[22m::UInt8, ::UInt8\u001b[1m)\u001b[22m\u001b[22m at \u001b[1m./deprecated.jl:376\u001b[22m\u001b[22m\n",
      " [3] \u001b[1mmacro expansion\u001b[22m\u001b[22m at \u001b[1m./In[14]:15\u001b[22m\u001b[22m [inlined]\n",
      " [4] \u001b[1manonymous\u001b[22m\u001b[22m at \u001b[1m./<missing>:?\u001b[22m\u001b[22m\n",
      " [5] \u001b[1minclude_string\u001b[22m\u001b[22m\u001b[1m(\u001b[22m\u001b[22m::String, ::String\u001b[1m)\u001b[22m\u001b[22m at \u001b[1m./loading.jl:515\u001b[22m\u001b[22m\n",
      " [6] \u001b[1mexecute_request\u001b[22m\u001b[22m\u001b[1m(\u001b[22m\u001b[22m::ZMQ.Socket, ::IJulia.Msg\u001b[1m)\u001b[22m\u001b[22m at \u001b[1m/home/hesl/.julia/v0.6/IJulia/src/execute_request.jl:156\u001b[22m\u001b[22m\n",
      " [7] \u001b[1meventloop\u001b[22m\u001b[22m\u001b[1m(\u001b[22m\u001b[22m::ZMQ.Socket\u001b[1m)\u001b[22m\u001b[22m at \u001b[1m/home/hesl/.julia/v0.6/IJulia/src/eventloop.jl:8\u001b[22m\u001b[22m\n",
      " [8] \u001b[1m(::IJulia.##9#12)\u001b[22m\u001b[22m\u001b[1m(\u001b[22m\u001b[22m\u001b[1m)\u001b[22m\u001b[22m at \u001b[1m./task.jl:335\u001b[22m\u001b[22m\n",
      "while loading In[14], in expression starting on line 7\n"
     ]
    }
   ],
   "source": [
    "#faults input value will be from 1...15\n",
    "#for every input value from 0...15, I need to know for input fault what out put they will produce\n",
    "#for every sbox I will have a list, such that the elemt of a list(representing the fault_inp)\n",
    "#is dictionary with key being the outp and the elemnts being the input values which \n",
    "#satisfy the pair (fault_inp,fault_out)\n",
    "L = []#the above mentioned list \n",
    "for fault_in in 1:15\n",
    "    D = Dict()\n",
    "    for f in 1:15\n",
    "        D[f] = []\n",
    "    end\n",
    "    for inp in 0:15\n",
    "        outp = sbox[inp+1]\n",
    "        outp_ = sbox[(inp$fault_in)+1]\n",
    "        fault_out = outp$outp_\n",
    "        push!(D[fault_out], inp)\n",
    "    end\n",
    "    push!(L,D)\n",
    "end "
   ]
  },
  {
   "cell_type": "code",
   "execution_count": 16,
   "metadata": {},
   "outputs": [
    {
     "data": {
      "text/plain": [
       "Dict{Any,Any} with 15 entries:\n",
       "  2  => Any[]\n",
       "  11 => Any[]\n",
       "  7  => Any[6, 7, 10, 11]\n",
       "  9  => Any[0, 1, 4, 5]\n",
       "  10 => Any[]\n",
       "  8  => Any[]\n",
       "  6  => Any[]\n",
       "  4  => Any[]\n",
       "  3  => Any[12, 13, 14, 15]\n",
       "  5  => Any[]\n",
       "  13 => Any[2, 3, 8, 9]\n",
       "  14 => Any[]\n",
       "  15 => Any[]\n",
       "  12 => Any[]\n",
       "  1  => Any[]"
      ]
     },
     "execution_count": 16,
     "metadata": {},
     "output_type": "execute_result"
    }
   ],
   "source": [
    "L[1]"
   ]
  },
  {
   "cell_type": "code",
   "execution_count": 18,
   "metadata": {},
   "outputs": [
    {
     "data": {
      "text/plain": [
       "Dict{Any,Any} with 15 entries:\n",
       "  2  => Any[]\n",
       "  11 => Any[]\n",
       "  7  => Any[]\n",
       "  9  => Any[]\n",
       "  10 => Any[0, 2]\n",
       "  8  => Any[]\n",
       "  6  => Any[9, 11]\n",
       "  4  => Any[]\n",
       "  3  => Any[4, 6]\n",
       "  5  => Any[12, 13, 14, 15]\n",
       "  13 => Any[5, 7]\n",
       "  14 => Any[1, 3]\n",
       "  15 => Any[]\n",
       "  12 => Any[8, 10]\n",
       "  1  => Any[]"
      ]
     },
     "execution_count": 18,
     "metadata": {},
     "output_type": "execute_result"
    }
   ],
   "source": [
    "L[2]"
   ]
  },
  {
   "cell_type": "code",
   "execution_count": 17,
   "metadata": {},
   "outputs": [
    {
     "name": "stderr",
     "output_type": "stream",
     "text": [
      "\u001b[1m\u001b[33mWARNING: \u001b[39m\u001b[22m\u001b[33m`x $ y` is deprecated.  use `xor(x, y)` or `x ⊻ y` instead.\u001b[39m\n",
      "Stacktrace:\n",
      " [1] \u001b[1mdepwarn\u001b[22m\u001b[22m\u001b[1m(\u001b[22m\u001b[22m::String, ::Symbol\u001b[1m)\u001b[22m\u001b[22m at \u001b[1m./deprecated.jl:70\u001b[22m\u001b[22m\n",
      " [2] \u001b[1m$\u001b[22m\u001b[22m\u001b[1m(\u001b[22m\u001b[22m::Int64, ::Int64\u001b[1m)\u001b[22m\u001b[22m at \u001b[1m./deprecated.jl:376\u001b[22m\u001b[22m\n",
      " [3] \u001b[1mddt\u001b[22m\u001b[22m\u001b[1m(\u001b[22m\u001b[22m::Array{UInt8,1}, ::Int64, ::Int64\u001b[1m)\u001b[22m\u001b[22m at \u001b[1m/home/hesl/.julia/v0.6/zypto/src/sbox_utilities.jl:25\u001b[22m\u001b[22m\n",
      " [4] \u001b[1minclude_string\u001b[22m\u001b[22m\u001b[1m(\u001b[22m\u001b[22m::String, ::String\u001b[1m)\u001b[22m\u001b[22m at \u001b[1m./loading.jl:515\u001b[22m\u001b[22m\n",
      " [5] \u001b[1mexecute_request\u001b[22m\u001b[22m\u001b[1m(\u001b[22m\u001b[22m::ZMQ.Socket, ::IJulia.Msg\u001b[1m)\u001b[22m\u001b[22m at \u001b[1m/home/hesl/.julia/v0.6/IJulia/src/execute_request.jl:156\u001b[22m\u001b[22m\n",
      " [6] \u001b[1meventloop\u001b[22m\u001b[22m\u001b[1m(\u001b[22m\u001b[22m::ZMQ.Socket\u001b[1m)\u001b[22m\u001b[22m at \u001b[1m/home/hesl/.julia/v0.6/IJulia/src/eventloop.jl:8\u001b[22m\u001b[22m\n",
      " [7] \u001b[1m(::IJulia.##9#12)\u001b[22m\u001b[22m\u001b[1m(\u001b[22m\u001b[22m\u001b[1m)\u001b[22m\u001b[22m at \u001b[1m./task.jl:335\u001b[22m\u001b[22m\n",
      "while loading In[17], in expression starting on line 1\n"
     ]
    },
    {
     "data": {
      "text/plain": [
       "16×16 Array{Int64,2}:\n",
       " 16  0  0  0  0  0  0  0  0  0  0  0  0  0  0  0\n",
       "  0  0  0  4  0  0  0  4  0  4  0  0  0  4  0  0\n",
       "  0  0  0  2  0  4  2  0  0  0  2  0  2  2  2  0\n",
       "  0  2  0  2  2  0  4  2  0  0  2  2  0  0  0  0\n",
       "  0  0  0  0  0  4  2  2  0  2  2  0  2  0  2  0\n",
       "  0  2  0  0  2  0  0  0  0  2  2  2  4  2  0  0\n",
       "  0  0  2  0  0  0  2  0  2  0  0  4  2  0  0  4\n",
       "  0  4  2  0  0  0  2  0  2  0  0  0  2  0  0  4\n",
       "  0  0  0  2  0  0  0  2  0  2  0  4  0  2  0  4\n",
       "  0  0  2  0  4  0  2  0  2  0  0  0  2  0  4  0\n",
       "  0  0  2  2  0  4  0  0  2  0  2  0  0  2  2  0\n",
       "  0  2  0  0  2  0  0  0  4  2  2  2  0  2  0  0\n",
       "  0  0  2  0  0  4  0  2  2  2  2  0  0  0  2  0\n",
       "  0  2  4  2  2  0  0  2  0  0  2  2  0  0  0  0\n",
       "  0  0  2  2  0  0  2  2  2  2  0  0  2  2  0  0\n",
       "  0  4  0  0  4  0  0  0  0  0  0  0  0  0  4  4"
      ]
     },
     "execution_count": 17,
     "metadata": {},
     "output_type": "execute_result"
    }
   ],
   "source": [
    "ddt(sbox,4,4)"
   ]
  },
  {
   "cell_type": "code",
   "execution_count": null,
   "metadata": {
    "collapsed": true
   },
   "outputs": [],
   "source": []
  },
  {
   "cell_type": "code",
   "execution_count": 10,
   "metadata": {},
   "outputs": [
    {
     "data": {
      "text/plain": [
       "Dict{Any,Any} with 1 entry:\n",
       "  1 => Any[]"
      ]
     },
     "execution_count": 10,
     "metadata": {},
     "output_type": "execute_result"
    }
   ],
   "source": [
    "a = Dict()\n",
    "a[1] = [];\n",
    "a"
   ]
  },
  {
   "cell_type": "code",
   "execution_count": 12,
   "metadata": {},
   "outputs": [
    {
     "data": {
      "text/plain": [
       "Dict{Any,Any} with 1 entry:\n",
       "  1 => Any[2, 2]"
      ]
     },
     "execution_count": 12,
     "metadata": {},
     "output_type": "execute_result"
    }
   ],
   "source": [
    "push!(a[1],2);\n",
    "a"
   ]
  }
 ],
 "metadata": {
  "kernelspec": {
   "display_name": "Julia 0.6.0",
   "language": "julia",
   "name": "julia-0.6"
  },
  "language_info": {
   "file_extension": ".jl",
   "mimetype": "application/julia",
   "name": "julia",
   "version": "0.6.0"
  }
 },
 "nbformat": 4,
 "nbformat_minor": 2
}
