{
 "cells": [
  {
   "cell_type": "code",
   "execution_count": 1,
   "metadata": {
    "collapsed": true
   },
   "outputs": [],
   "source": [
    "#only cosidering first 4*4 sbox"
   ]
  },
  {
   "cell_type": "code",
   "execution_count": 2,
   "metadata": {},
   "outputs": [
    {
     "name": "stderr",
     "output_type": "stream",
     "text": [
      "\u001b[1m\u001b[36mINFO: \u001b[39m\u001b[22m\u001b[36mRecompiling stale cache file /home/hesl/.julia/lib/v0.6/DataArrays.ji for module DataArrays.\n",
      "\u001b[39m\u001b[1m\u001b[36mINFO: \u001b[39m\u001b[22m\u001b[36mRecompiling stale cache file /home/hesl/.julia/lib/v0.6/DataFrames.ji for module DataFrames.\n",
      "\u001b[39m\u001b[1m\u001b[36mINFO: \u001b[39m\u001b[22m\u001b[36mRecompiling stale cache file /home/hesl/.julia/lib/v0.6/PyCall.ji for module PyCall.\n",
      "\u001b[39m\u001b[1m\u001b[36mINFO: \u001b[39m\u001b[22m\u001b[36mRecompiling stale cache file /home/hesl/.julia/lib/v0.6/PyPlot.ji for module PyPlot.\n",
      "\u001b[39m"
     ]
    },
    {
     "data": {
      "text/plain": [
       "PyPlot"
      ]
     },
     "execution_count": 2,
     "metadata": {},
     "output_type": "execute_result"
    }
   ],
   "source": [
    "using zypto\n",
    "using DataFrames\n",
    "using PyPlot\n",
    "plt = PyPlot"
   ]
  },
  {
   "cell_type": "code",
   "execution_count": null,
   "metadata": {
    "collapsed": true
   },
   "outputs": [],
   "source": []
  },
  {
   "cell_type": "code",
   "execution_count": null,
   "metadata": {
    "collapsed": true
   },
   "outputs": [],
   "source": []
  },
  {
   "cell_type": "code",
   "execution_count": null,
   "metadata": {
    "collapsed": true
   },
   "outputs": [],
   "source": []
  },
  {
   "cell_type": "code",
   "execution_count": null,
   "metadata": {
    "collapsed": true
   },
   "outputs": [],
   "source": []
  },
  {
   "cell_type": "code",
   "execution_count": null,
   "metadata": {
    "collapsed": true
   },
   "outputs": [],
   "source": []
  },
  {
   "cell_type": "code",
   "execution_count": null,
   "metadata": {
    "collapsed": true
   },
   "outputs": [],
   "source": []
  },
  {
   "cell_type": "code",
   "execution_count": 58,
   "metadata": {},
   "outputs": [
    {
     "name": "stderr",
     "output_type": "stream",
     "text": [
      "\u001b[1m\u001b[33mWARNING: \u001b[39m\u001b[22m\u001b[33m`x $ y` is deprecated.  use `xor(x, y)` or `x ⊻ y` instead.\u001b[39m\n",
      "Stacktrace:\n",
      " [1] \u001b[1mdepwarn\u001b[22m\u001b[22m\u001b[1m(\u001b[22m\u001b[22m::String, ::Symbol\u001b[1m)\u001b[22m\u001b[22m at \u001b[1m./deprecated.jl:70\u001b[22m\u001b[22m\n",
      " [2] \u001b[1m$\u001b[22m\u001b[22m at \u001b[1m./deprecated.jl:376\u001b[22m\u001b[22m [inlined]\n",
      " [3] \u001b[1mddt\u001b[22m\u001b[22m\u001b[1m(\u001b[22m\u001b[22m::Array{UInt8,1}, ::Int64, ::Int64\u001b[1m)\u001b[22m\u001b[22m at \u001b[1m/home/hesl/.julia/v0.6/zypto/src/sbox_utilities.jl:25\u001b[22m\u001b[22m\n",
      " [4] \u001b[1minclude_string\u001b[22m\u001b[22m\u001b[1m(\u001b[22m\u001b[22m::String, ::String\u001b[1m)\u001b[22m\u001b[22m at \u001b[1m./loading.jl:515\u001b[22m\u001b[22m\n",
      " [5] \u001b[1mexecute_request\u001b[22m\u001b[22m\u001b[1m(\u001b[22m\u001b[22m::ZMQ.Socket, ::IJulia.Msg\u001b[1m)\u001b[22m\u001b[22m at \u001b[1m/home/hesl/.julia/v0.6/IJulia/src/execute_request.jl:160\u001b[22m\u001b[22m\n",
      " [6] \u001b[1meventloop\u001b[22m\u001b[22m\u001b[1m(\u001b[22m\u001b[22m::ZMQ.Socket\u001b[1m)\u001b[22m\u001b[22m at \u001b[1m/home/hesl/.julia/v0.6/IJulia/src/eventloop.jl:8\u001b[22m\u001b[22m\n",
      " [7] \u001b[1m(::IJulia.##11#14)\u001b[22m\u001b[22m\u001b[1m(\u001b[22m\u001b[22m\u001b[1m)\u001b[22m\u001b[22m at \u001b[1m./task.jl:335\u001b[22m\u001b[22m\n",
      "while loading In[58], in expression starting on line 5\n"
     ]
    },
    {
     "data": {
      "text/plain": [
       "16×16 Array{Int64,2}:\n",
       " 16  0   0  0  0  0  0  0  0  0  0  0  0  0  0  0\n",
       "  0  4   0  4  4  0  4  0  0  0  0  0  0  0  0  0\n",
       "  0  0  16  0  0  0  0  0  0  0  0  0  0  0  0  0\n",
       "  0  4   0  4  4  0  4  0  0  0  0  0  0  0  0  0\n",
       "  0  0   0  0  4  4  4  4  0  0  0  0  0  0  0  0\n",
       "  0  4   0  4  0  4  0  4  0  0  0  0  0  0  0  0\n",
       "  0  0   0  0  4  4  4  4  0  0  0  0  0  0  0  0\n",
       "  0  4   0  4  0  4  0  4  0  0  0  0  0  0  0  0\n",
       "  0  0   0  0  0  0  0  0  4  4  0  0  0  0  4  4\n",
       "  0  0   0  0  0  0  0  0  0  4  4  0  0  4  4  0\n",
       "  0  0   0  0  0  0  0  0  0  0  4  4  4  4  0  0\n",
       "  0  0   0  0  0  0  0  0  4  0  0  4  4  0  0  4\n",
       "  0  0   0  0  0  0  0  0  4  4  0  0  4  4  0  0\n",
       "  0  0   0  0  0  0  0  0  0  4  4  0  4  0  0  4\n",
       "  0  0   0  0  0  0  0  0  0  0  4  4  0  0  4  4\n",
       "  0  0   0  0  0  0  0  0  4  0  0  4  0  4  4  0"
      ]
     },
     "execution_count": 58,
     "metadata": {},
     "output_type": "execute_result"
    }
   ],
   "source": [
    "sStr1 = \"40623517A98BCDEF\"\n",
    "sbox = string2sbox(sStr1,1)\n",
    "\n",
    "#sbox = [13, 14, 2, 1, 4, 8, 11,7, 9, 10, 6, 5, 15, 12, 0, 3]\n",
    "ddt(sbox,4,4)"
   ]
  },
  {
   "cell_type": "code",
   "execution_count": 32,
   "metadata": {},
   "outputs": [
    {
     "data": {
      "text/plain": [
       "sbox_du (generic function with 1 method)"
      ]
     },
     "execution_count": 32,
     "metadata": {},
     "output_type": "execute_result"
    }
   ],
   "source": [
    "#function to get the du from the ddt\n",
    "function sbox_du(sbox_ddt)\n",
    "    s_ = sbox_ddt[2:end, 2:end]\n",
    "    du = maximum(s_)\n",
    "    return du\n",
    "end"
   ]
  },
  {
   "cell_type": "code",
   "execution_count": 59,
   "metadata": {},
   "outputs": [
    {
     "name": "stderr",
     "output_type": "stream",
     "text": [
      "\u001b[1m\u001b[33mWARNING: \u001b[39m\u001b[22m\u001b[33m`x $ y` is deprecated.  use `xor(x, y)` or `x ⊻ y` instead.\u001b[39m\n",
      "Stacktrace:\n",
      " [1] \u001b[1mdepwarn\u001b[22m\u001b[22m\u001b[1m(\u001b[22m\u001b[22m::String, ::Symbol\u001b[1m)\u001b[22m\u001b[22m at \u001b[1m./deprecated.jl:70\u001b[22m\u001b[22m\n",
      " [2] \u001b[1m$\u001b[22m\u001b[22m at \u001b[1m./deprecated.jl:376\u001b[22m\u001b[22m [inlined]\n",
      " [3] \u001b[1mmacro expansion\u001b[22m\u001b[22m at \u001b[1m./In[59]:14\u001b[22m\u001b[22m [inlined]\n",
      " [4] \u001b[1manonymous\u001b[22m\u001b[22m at \u001b[1m./<missing>:?\u001b[22m\u001b[22m\n",
      " [5] \u001b[1minclude_string\u001b[22m\u001b[22m\u001b[1m(\u001b[22m\u001b[22m::String, ::String\u001b[1m)\u001b[22m\u001b[22m at \u001b[1m./loading.jl:515\u001b[22m\u001b[22m\n",
      " [6] \u001b[1mexecute_request\u001b[22m\u001b[22m\u001b[1m(\u001b[22m\u001b[22m::ZMQ.Socket, ::IJulia.Msg\u001b[1m)\u001b[22m\u001b[22m at \u001b[1m/home/hesl/.julia/v0.6/IJulia/src/execute_request.jl:160\u001b[22m\u001b[22m\n",
      " [7] \u001b[1meventloop\u001b[22m\u001b[22m\u001b[1m(\u001b[22m\u001b[22m::ZMQ.Socket\u001b[1m)\u001b[22m\u001b[22m at \u001b[1m/home/hesl/.julia/v0.6/IJulia/src/eventloop.jl:8\u001b[22m\u001b[22m\n",
      " [8] \u001b[1m(::IJulia.##11#14)\u001b[22m\u001b[22m\u001b[1m(\u001b[22m\u001b[22m\u001b[1m)\u001b[22m\u001b[22m at \u001b[1m./task.jl:335\u001b[22m\u001b[22m\n",
      "while loading In[59], in expression starting on line 7\n",
      "\u001b[1m\u001b[33mWARNING: \u001b[39m\u001b[22m\u001b[33m`x $ y` is deprecated.  use `xor(x, y)` or `x ⊻ y` instead.\u001b[39m\n",
      "Stacktrace:\n",
      " [1] \u001b[1mdepwarn\u001b[22m\u001b[22m\u001b[1m(\u001b[22m\u001b[22m::String, ::Symbol\u001b[1m)\u001b[22m\u001b[22m at \u001b[1m./deprecated.jl:70\u001b[22m\u001b[22m\n",
      " [2] \u001b[1m$\u001b[22m\u001b[22m at \u001b[1m./deprecated.jl:376\u001b[22m\u001b[22m [inlined]\n",
      " [3] \u001b[1mmacro expansion\u001b[22m\u001b[22m at \u001b[1m./In[59]:15\u001b[22m\u001b[22m [inlined]\n",
      " [4] \u001b[1manonymous\u001b[22m\u001b[22m at \u001b[1m./<missing>:?\u001b[22m\u001b[22m\n",
      " [5] \u001b[1minclude_string\u001b[22m\u001b[22m\u001b[1m(\u001b[22m\u001b[22m::String, ::String\u001b[1m)\u001b[22m\u001b[22m at \u001b[1m./loading.jl:515\u001b[22m\u001b[22m\n",
      " [6] \u001b[1mexecute_request\u001b[22m\u001b[22m\u001b[1m(\u001b[22m\u001b[22m::ZMQ.Socket, ::IJulia.Msg\u001b[1m)\u001b[22m\u001b[22m at \u001b[1m/home/hesl/.julia/v0.6/IJulia/src/execute_request.jl:160\u001b[22m\u001b[22m\n",
      " [7] \u001b[1meventloop\u001b[22m\u001b[22m\u001b[1m(\u001b[22m\u001b[22m::ZMQ.Socket\u001b[1m)\u001b[22m\u001b[22m at \u001b[1m/home/hesl/.julia/v0.6/IJulia/src/eventloop.jl:8\u001b[22m\u001b[22m\n",
      " [8] \u001b[1m(::IJulia.##11#14)\u001b[22m\u001b[22m\u001b[1m(\u001b[22m\u001b[22m\u001b[1m)\u001b[22m\u001b[22m at \u001b[1m./task.jl:335\u001b[22m\u001b[22m\n",
      "while loading In[59], in expression starting on line 7\n"
     ]
    }
   ],
   "source": [
    "#faults input value will be from 1...15\n",
    "#for every input value from 0...15, I need to know for input fault what out put they will produce\n",
    "#for every sbox I will have a list, such that the elemt of a list(representing the fault_inp)\n",
    "#is dictionary with key being the outp and the elemnts being the input values which \n",
    "#satisfy the pair (fault_inp,fault_out)\n",
    "L = []#the above mentioned list \n",
    "for fault_in in 1:15\n",
    "    D = Dict( )\n",
    "    for f in 1:15\n",
    "        D[f] = Int[]\n",
    "    end\n",
    "    for inp in 0:15\n",
    "        outp = sbox[inp+1]\n",
    "        outp_ = sbox[(inp$fault_in)+1]\n",
    "        fault_out = outp$outp_\n",
    "        push!(D[fault_out], inp)\n",
    "    end\n",
    "    push!(L,D)\n",
    "end "
   ]
  },
  {
   "cell_type": "code",
   "execution_count": 61,
   "metadata": {},
   "outputs": [
    {
     "data": {
      "text/plain": [
       "Dict{Any,Any} with 15 entries:\n",
       "  2  => Int64[]\n",
       "  11 => Int64[]\n",
       "  7  => Int64[]\n",
       "  9  => Int64[]\n",
       "  10 => Int64[]\n",
       "  8  => Int64[]\n",
       "  6  => [4, 5, 6, 7]\n",
       "  4  => [0, 1, 2, 3]\n",
       "  3  => [8, 9, 10, 11]\n",
       "  5  => Int64[]\n",
       "  13 => Int64[]\n",
       "  14 => Int64[]\n",
       "  15 => Int64[]\n",
       "  12 => Int64[]\n",
       "  1  => [12, 13, 14, 15]"
      ]
     },
     "execution_count": 61,
     "metadata": {},
     "output_type": "execute_result"
    }
   ],
   "source": [
    "L[1]"
   ]
  },
  {
   "cell_type": "code",
   "execution_count": 62,
   "metadata": {},
   "outputs": [
    {
     "data": {
      "text/plain": [
       "Dict{Any,Any} with 15 entries:\n",
       "  2  => [0, 1, 2, 3, 4, 5, 6, 7, 8, 9, 10, 11, 12, 13, 14, 15]\n",
       "  11 => Int64[]\n",
       "  7  => Int64[]\n",
       "  9  => Int64[]\n",
       "  10 => Int64[]\n",
       "  8  => Int64[]\n",
       "  6  => Int64[]\n",
       "  4  => Int64[]\n",
       "  3  => Int64[]\n",
       "  5  => Int64[]\n",
       "  13 => Int64[]\n",
       "  14 => Int64[]\n",
       "  15 => Int64[]\n",
       "  12 => Int64[]\n",
       "  1  => Int64[]"
      ]
     },
     "execution_count": 62,
     "metadata": {},
     "output_type": "execute_result"
    }
   ],
   "source": [
    "L[2]"
   ]
  },
  {
   "cell_type": "code",
   "execution_count": 63,
   "metadata": {},
   "outputs": [
    {
     "data": {
      "text/plain": [
       "Dict{Any,Any} with 15 entries:\n",
       "  2  => Int64[]\n",
       "  11 => Int64[]\n",
       "  7  => Int64[]\n",
       "  9  => Int64[]\n",
       "  10 => Int64[]\n",
       "  8  => Int64[]\n",
       "  6  => [0, 1, 2, 3]\n",
       "  4  => [4, 5, 6, 7]\n",
       "  3  => [12, 13, 14, 15]\n",
       "  5  => Int64[]\n",
       "  13 => Int64[]\n",
       "  14 => Int64[]\n",
       "  15 => Int64[]\n",
       "  12 => Int64[]\n",
       "  1  => [8, 9, 10, 11]"
      ]
     },
     "execution_count": 63,
     "metadata": {},
     "output_type": "execute_result"
    }
   ],
   "source": [
    "L[3]"
   ]
  },
  {
   "cell_type": "code",
   "execution_count": 64,
   "metadata": {},
   "outputs": [
    {
     "data": {
      "text/plain": [
       "Dict{Any,Any} with 15 entries:\n",
       "  2  => Int64[]\n",
       "  11 => Int64[]\n",
       "  7  => [0, 2, 4, 6]\n",
       "  9  => Int64[]\n",
       "  10 => Int64[]\n",
       "  8  => Int64[]\n",
       "  6  => [8, 10, 12, 14]\n",
       "  4  => [9, 11, 13, 15]\n",
       "  3  => Int64[]\n",
       "  5  => [1, 3, 5, 7]\n",
       "  13 => Int64[]\n",
       "  14 => Int64[]\n",
       "  15 => Int64[]\n",
       "  12 => Int64[]\n",
       "  1  => Int64[]"
      ]
     },
     "execution_count": 64,
     "metadata": {},
     "output_type": "execute_result"
    }
   ],
   "source": [
    "L[4]"
   ]
  },
  {
   "cell_type": "code",
   "execution_count": 65,
   "metadata": {},
   "outputs": [
    {
     "data": {
      "text/plain": [
       "Dict{Any,Any} with 15 entries:\n",
       "  2  => Int64[]\n",
       "  11 => Int64[]\n",
       "  7  => [8, 10, 13, 15]\n",
       "  9  => Int64[]\n",
       "  10 => Int64[]\n",
       "  8  => Int64[]\n",
       "  6  => Int64[]\n",
       "  4  => Int64[]\n",
       "  3  => [1, 3, 4, 6]\n",
       "  5  => [9, 11, 12, 14]\n",
       "  13 => Int64[]\n",
       "  14 => Int64[]\n",
       "  15 => Int64[]\n",
       "  12 => Int64[]\n",
       "  1  => [0, 2, 5, 7]"
      ]
     },
     "execution_count": 65,
     "metadata": {},
     "output_type": "execute_result"
    }
   ],
   "source": [
    "L[5]"
   ]
  },
  {
   "cell_type": "code",
   "execution_count": 66,
   "metadata": {},
   "outputs": [
    {
     "data": {
      "text/plain": [
       "Dict{Any,Any} with 15 entries:\n",
       "  2  => Int64[]\n",
       "  11 => Int64[]\n",
       "  7  => [1, 3, 5, 7]\n",
       "  9  => Int64[]\n",
       "  10 => Int64[]\n",
       "  8  => Int64[]\n",
       "  6  => [9, 11, 13, 15]\n",
       "  4  => [8, 10, 12, 14]\n",
       "  3  => Int64[]\n",
       "  5  => [0, 2, 4, 6]\n",
       "  13 => Int64[]\n",
       "  14 => Int64[]\n",
       "  15 => Int64[]\n",
       "  12 => Int64[]\n",
       "  1  => Int64[]"
      ]
     },
     "execution_count": 66,
     "metadata": {},
     "output_type": "execute_result"
    }
   ],
   "source": [
    "L[6]"
   ]
  },
  {
   "cell_type": "code",
   "execution_count": 20,
   "metadata": {},
   "outputs": [
    {
     "name": "stderr",
     "output_type": "stream",
     "text": [
      "\u001b[1m\u001b[33mWARNING: \u001b[39m\u001b[22m\u001b[33m`x $ y` is deprecated.  use `xor(x, y)` or `x ⊻ y` instead.\u001b[39m\n",
      "Stacktrace:\n",
      " [1] \u001b[1mdepwarn\u001b[22m\u001b[22m\u001b[1m(\u001b[22m\u001b[22m::String, ::Symbol\u001b[1m)\u001b[22m\u001b[22m at \u001b[1m./deprecated.jl:70\u001b[22m\u001b[22m\n",
      " [2] \u001b[1m$\u001b[22m\u001b[22m at \u001b[1m./deprecated.jl:376\u001b[22m\u001b[22m [inlined]\n",
      " [3] \u001b[1mddt\u001b[22m\u001b[22m\u001b[1m(\u001b[22m\u001b[22m::Array{UInt8,1}, ::Int64, ::Int64\u001b[1m)\u001b[22m\u001b[22m at \u001b[1m/home/hesl/.julia/v0.6/zypto/src/sbox_utilities.jl:25\u001b[22m\u001b[22m\n",
      " [4] \u001b[1minclude_string\u001b[22m\u001b[22m\u001b[1m(\u001b[22m\u001b[22m::String, ::String\u001b[1m)\u001b[22m\u001b[22m at \u001b[1m./loading.jl:515\u001b[22m\u001b[22m\n",
      " [5] \u001b[1mexecute_request\u001b[22m\u001b[22m\u001b[1m(\u001b[22m\u001b[22m::ZMQ.Socket, ::IJulia.Msg\u001b[1m)\u001b[22m\u001b[22m at \u001b[1m/home/hesl/.julia/v0.6/IJulia/src/execute_request.jl:160\u001b[22m\u001b[22m\n",
      " [6] \u001b[1meventloop\u001b[22m\u001b[22m\u001b[1m(\u001b[22m\u001b[22m::ZMQ.Socket\u001b[1m)\u001b[22m\u001b[22m at \u001b[1m/home/hesl/.julia/v0.6/IJulia/src/eventloop.jl:8\u001b[22m\u001b[22m\n",
      " [7] \u001b[1m(::IJulia.##11#14)\u001b[22m\u001b[22m\u001b[1m(\u001b[22m\u001b[22m\u001b[1m)\u001b[22m\u001b[22m at \u001b[1m./task.jl:335\u001b[22m\u001b[22m\n",
      "while loading In[20], in expression starting on line 1\n"
     ]
    },
    {
     "data": {
      "text/plain": [
       "16×16 Array{Int64,2}:\n",
       " 16  0  0  0  0  0  0  0  0  0  0  0  0  0  0  0\n",
       "  0  0  0  0  2  0  0  2  2  0  0  2  2  2  2  2\n",
       "  0  2  2  0  0  2  0  2  0  2  0  2  2  0  0  2\n",
       "  0  0  2  4  2  0  0  0  0  0  0  2  2  0  2  2\n",
       "  0  4  4  2  2  0  0  0  0  0  2  0  0  2  0  0\n",
       "  0  0  0  0  2  2  0  0  0  4  0  0  0  4  2  2\n",
       "  0  2  0  2  0  0  4  0  0  0  2  2  0  2  2  0\n",
       "  0  0  4  0  0  0  4  0  2  2  0  0  2  2  0  0\n",
       "  0  0  0  2  0  2  2  2  0  0  2  0  2  0  2  2\n",
       "  0  2  0  0  2  0  0  4  0  4  0  2  0  0  2  0\n",
       "  0  0  2  2  2  4  0  2  2  0  2  0  0  0  0  0\n",
       "  0  0  2  0  0  0  2  0  4  2  0  0  4  2  0  0\n",
       "  0  2  0  0  4  2  0  0  0  0  0  2  0  0  4  2\n",
       "  0  0  0  4  0  2  2  0  2  0  4  2  0  0  0  0\n",
       "  0  2  0  0  0  2  2  2  2  2  0  2  0  0  0  2\n",
       "  0  2  0  0  0  0  0  2  2  0  4  0  2  2  0  2"
      ]
     },
     "execution_count": 20,
     "metadata": {},
     "output_type": "execute_result"
    }
   ],
   "source": [
    "ddt(sbox,4,4)"
   ]
  },
  {
   "cell_type": "code",
   "execution_count": 14,
   "metadata": {},
   "outputs": [
    {
     "data": {
      "text/plain": [
       "set_intersection (generic function with 1 method)"
      ]
     },
     "execution_count": 14,
     "metadata": {},
     "output_type": "execute_result"
    }
   ],
   "source": [
    "#intersecting 2 set\n",
    "function set_intersection(listOfSets)\n",
    "    nSets = length(listOfSets)\n",
    "    intersection = listOfSets[1] #set representing the intersection at the beginning\n",
    "    for i in 2:nSets\n",
    "        a = intersection\n",
    "        b = listOfSets[i]\n",
    "        #println(\"a is $(a) b is $(b)\")\n",
    "        f(x) = in(x,a) & in(x,b)\n",
    "        intersection = Set(find(f, 0:15) - 1) #as for 4 X 4 these are the upper and lower bound\n",
    "        #-1 so that we get the value of x and not it's index\n",
    "        #println(\"intersection is $(intersection)\")\n",
    "    end\n",
    "    return intersection\n",
    "end"
   ]
  },
  {
   "cell_type": "code",
   "execution_count": 15,
   "metadata": {},
   "outputs": [
    {
     "data": {
      "text/plain": [
       "Set([2, 3])"
      ]
     },
     "execution_count": 15,
     "metadata": {},
     "output_type": "execute_result"
    }
   ],
   "source": [
    "set_intersection([Set([1,2,3]), Set([5,6,7,8,2,3]), Set([8,2,3])])"
   ]
  },
  {
   "cell_type": "code",
   "execution_count": 16,
   "metadata": {},
   "outputs": [
    {
     "data": {
      "text/plain": [
       "allSubsetAllComb (generic function with 1 method)"
      ]
     },
     "execution_count": 16,
     "metadata": {},
     "output_type": "execute_result"
    }
   ],
   "source": [
    "function allSubsetAllComb(n)\n",
    "    sorted_list = [i for i in 1:n]\n",
    "    list_of_comb_of_all_sizes = []\n",
    "    size1 = [[a] for a in sorted_list]\n",
    "    sizen = [sorted_list]\n",
    "    push!(list_of_comb_of_all_sizes, size1) #first list inserted\n",
    "    \n",
    "    for k in 2:n-1\n",
    "        sizek = []\n",
    "        prev_k_list = list_of_comb_of_all_sizes[k-1]\n",
    "        #println(\"prev_k_list: \",prev_k_list)\n",
    "        for l in prev_k_list\n",
    "            last_ele = l[k-1]\n",
    "            for j in (last_ele+1):n\n",
    "                new_ele_sizek = [z for z in l]\n",
    "                #println(\"new_ele_sizek_interm: \",new_ele_sizek)\n",
    "                new_ele_sizek = push!(new_ele_sizek,j)\n",
    "                #println(\"new_ele_sizek\", new_ele_sizek)\n",
    "                push!(sizek, new_ele_sizek)\n",
    "            end\n",
    "        end\n",
    "        #println(\"sizek: \", sizek)\n",
    "        push!(list_of_comb_of_all_sizes,sizek)\n",
    "    end\n",
    "    push!(list_of_comb_of_all_sizes, sizen) #last element added\n",
    "    \n",
    "    return list_of_comb_of_all_sizes\n",
    "end"
   ]
  },
  {
   "cell_type": "code",
   "execution_count": 42,
   "metadata": {},
   "outputs": [
    {
     "data": {
      "text/plain": [
       "4-element Array{Int64,1}:\n",
       "  5\n",
       " 34\n",
       "  8\n",
       "  7"
      ]
     },
     "execution_count": 42,
     "metadata": {},
     "output_type": "execute_result"
    }
   ],
   "source": [
    "x = [1,2,34,5,6,7,8,9,0]\n",
    "x[[4,3,7,6]]"
   ]
  },
  {
   "cell_type": "code",
   "execution_count": 60,
   "metadata": {},
   "outputs": [
    {
     "name": "stdout",
     "output_type": "stream",
     "text": [
      "Any[Set([0, 2, 3, 1]), Set([2, 11, 0, 7, 9, 10, 8, 6, 4, 3, 5, 13, 14, 15, 12, 1]), Set([0, 2, 3, 1]), Set([0, 4, 2, 6]), Set([0, 7, 2, 5]), Set([0, 4, 2, 6]), Set([0, 7, 2, 5]), Set([0, 10, 2, 8]), Set([0, 9, 2, 11]), Set([0, 10, 2, 8]), Set([0, 9, 2, 11]), Set([0, 14, 2, 12]), Set([0, 13, 2, 15]), Set([0, 14, 2, 12]), Set([0, 13, 2, 15])]\n",
      "testing for beast for inp=0 intersection of all is Set([0, 2])\n",
      "Any[Set([0, 2, 3, 1]), Set([2, 11, 0, 7, 9, 10, 8, 6, 4, 3, 5, 13, 14, 15, 12, 1]), Set([0, 2, 3, 1]), Set([7, 3, 5, 1]), Set([4, 3, 6, 1]), Set([7, 3, 5, 1]), Set([4, 3, 6, 1]), Set([9, 3, 11, 1]), Set([10, 3, 8, 1]), Set([9, 3, 11, 1]), Set([10, 3, 8, 1]), Set([13, 3, 15, 1]), Set([14, 3, 12, 1]), Set([13, 3, 15, 1]), Set([14, 3, 12, 1])]\n",
      "testing for beast for inp=1 intersection of all is Set([3, 1])\n",
      "Any[Set([0, 2, 3, 1]), Set([2, 11, 0, 7, 9, 10, 8, 6, 4, 3, 5, 13, 14, 15, 12, 1]), Set([0, 2, 3, 1]), Set([0, 4, 2, 6]), Set([0, 7, 2, 5]), Set([0, 4, 2, 6]), Set([0, 7, 2, 5]), Set([0, 10, 2, 8]), Set([0, 9, 2, 11]), Set([0, 10, 2, 8]), Set([0, 9, 2, 11]), Set([0, 14, 2, 12]), Set([0, 13, 2, 15]), Set([0, 14, 2, 12]), Set([0, 13, 2, 15])]\n",
      "testing for beast for inp=2 intersection of all is Set([0, 2])\n",
      "Any[Set([0, 2, 3, 1]), Set([2, 11, 0, 7, 9, 10, 8, 6, 4, 3, 5, 13, 14, 15, 12, 1]), Set([0, 2, 3, 1]), Set([7, 3, 5, 1]), Set([4, 3, 6, 1]), Set([7, 3, 5, 1]), Set([4, 3, 6, 1]), Set([9, 3, 11, 1]), Set([10, 3, 8, 1]), Set([9, 3, 11, 1]), Set([10, 3, 8, 1]), Set([13, 3, 15, 1]), Set([14, 3, 12, 1]), Set([13, 3, 15, 1]), Set([14, 3, 12, 1])]\n",
      "testing for beast for inp=3 intersection of all is Set([3, 1])\n",
      "Any[Set([7, 4, 5, 6]), Set([2, 11, 0, 7, 9, 10, 8, 6, 4, 3, 5, 13, 14, 15, 12, 1]), Set([7, 4, 5, 6]), Set([0, 4, 2, 6]), Set([4, 3, 6, 1]), Set([0, 4, 2, 6]), Set([4, 3, 6, 1]), Set([4, 14, 6, 12]), Set([4, 13, 15, 6]), Set([4, 14, 6, 12]), Set([4, 13, 15, 6]), Set([4, 10, 8, 6]), Set([4, 9, 11, 6]), Set([4, 10, 8, 6]), Set([4, 9, 11, 6])]\n",
      "testing for beast for inp=4 intersection of all is Set([4, 6])\n",
      "Any[Set([7, 4, 5, 6]), Set([2, 11, 0, 7, 9, 10, 8, 6, 4, 3, 5, 13, 14, 15, 12, 1]), Set([7, 4, 5, 6]), Set([7, 3, 5, 1]), Set([0, 7, 2, 5]), Set([7, 3, 5, 1]), Set([0, 7, 2, 5]), Set([7, 13, 5, 15]), Set([7, 14, 5, 12]), Set([7, 13, 5, 15]), Set([7, 14, 5, 12]), Set([7, 9, 11, 5]), Set([7, 10, 5, 8]), Set([7, 9, 11, 5]), Set([7, 10, 5, 8])]\n",
      "testing for beast for inp=5 intersection of all is Set([7, 5])\n",
      "Any[Set([7, 4, 5, 6]), Set([2, 11, 0, 7, 9, 10, 8, 6, 4, 3, 5, 13, 14, 15, 12, 1]), Set([7, 4, 5, 6]), Set([0, 4, 2, 6]), Set([4, 3, 6, 1]), Set([0, 4, 2, 6]), Set([4, 3, 6, 1]), Set([4, 14, 6, 12]), Set([4, 13, 15, 6]), Set([4, 14, 6, 12]), Set([4, 13, 15, 6]), Set([4, 10, 8, 6]), Set([4, 9, 11, 6]), Set([4, 10, 8, 6]), Set([4, 9, 11, 6])]\n",
      "testing for beast for inp=6 intersection of all is Set([4, 6])\n",
      "Any[Set([7, 4, 5, 6]), Set([2, 11, 0, 7, 9, 10, 8, 6, 4, 3, 5, 13, 14, 15, 12, 1]), Set([7, 4, 5, 6]), Set([7, 3, 5, 1]), Set([0, 7, 2, 5]), Set([7, 3, 5, 1]), Set([0, 7, 2, 5]), Set([7, 13, 5, 15]), Set([7, 14, 5, 12]), Set([7, 13, 5, 15]), Set([7, 14, 5, 12]), Set([7, 9, 11, 5]), Set([7, 10, 5, 8]), Set([7, 9, 11, 5]), Set([7, 10, 5, 8])]\n",
      "testing for beast for inp=7 intersection of all is Set([7, 5])\n",
      "Any[Set([9, 10, 11, 8]), Set([2, 11, 0, 7, 9, 10, 8, 6, 4, 3, 5, 13, 14, 15, 12, 1]), Set([9, 10, 11, 8]), Set([14, 10, 8, 12]), Set([13, 10, 8, 15]), Set([14, 10, 8, 12]), Set([13, 10, 8, 15]), Set([0, 10, 2, 8]), Set([10, 3, 8, 1]), Set([0, 10, 2, 8]), Set([10, 3, 8, 1]), Set([4, 10, 8, 6]), Set([7, 10, 5, 8]), Set([4, 10, 8, 6]), Set([7, 10, 5, 8])]\n",
      "testing for beast for inp=8 intersection of all is Set([10, 8])\n",
      "Any[Set([9, 10, 11, 8]), Set([2, 11, 0, 7, 9, 10, 8, 6, 4, 3, 5, 13, 14, 15, 12, 1]), Set([9, 10, 11, 8]), Set([9, 13, 11, 15]), Set([9, 14, 11, 12]), Set([9, 13, 11, 15]), Set([9, 14, 11, 12]), Set([9, 3, 11, 1]), Set([0, 9, 2, 11]), Set([9, 3, 11, 1]), Set([0, 9, 2, 11]), Set([7, 9, 11, 5]), Set([4, 9, 11, 6]), Set([7, 9, 11, 5]), Set([4, 9, 11, 6])]\n",
      "testing for beast for inp=9 intersection of all is Set([9, 11])\n",
      "Any[Set([9, 10, 11, 8]), Set([2, 11, 0, 7, 9, 10, 8, 6, 4, 3, 5, 13, 14, 15, 12, 1]), Set([9, 10, 11, 8]), Set([14, 10, 8, 12]), Set([13, 10, 8, 15]), Set([14, 10, 8, 12]), Set([13, 10, 8, 15]), Set([0, 10, 2, 8]), Set([10, 3, 8, 1]), Set([0, 10, 2, 8]), Set([10, 3, 8, 1]), Set([4, 10, 8, 6]), Set([7, 10, 5, 8]), Set([4, 10, 8, 6]), Set([7, 10, 5, 8])]\n",
      "testing for beast for inp=10 intersection of all is Set([10, 8])\n",
      "Any[Set([9, 10, 11, 8]), Set([2, 11, 0, 7, 9, 10, 8, 6, 4, 3, 5, 13, 14, 15, 12, 1]), Set([9, 10, 11, 8]), Set([9, 13, 11, 15]), Set([9, 14, 11, 12]), Set([9, 13, 11, 15]), Set([9, 14, 11, 12]), Set([9, 3, 11, 1]), Set([0, 9, 2, 11]), Set([9, 3, 11, 1]), Set([0, 9, 2, 11]), Set([7, 9, 11, 5]), Set([4, 9, 11, 6]), Set([7, 9, 11, 5]), Set([4, 9, 11, 6])]\n",
      "testing for beast for inp=11 intersection of all is Set([9, 11])\n",
      "Any[Set([13, 14, 15, 12]), Set([2, 11, 0, 7, 9, 10, 8, 6, 4, 3, 5, 13, 14, 15, 12, 1]), Set([13, 14, 15, 12]), Set([14, 10, 8, 12]), Set([9, 14, 11, 12]), Set([14, 10, 8, 12]), Set([9, 14, 11, 12]), Set([4, 14, 6, 12]), Set([7, 14, 5, 12]), Set([4, 14, 6, 12]), Set([7, 14, 5, 12]), Set([0, 14, 2, 12]), Set([14, 3, 12, 1]), Set([0, 14, 2, 12]), Set([14, 3, 12, 1])]\n",
      "testing for beast for inp=12 intersection of all is Set([14, 12])\n",
      "Any[Set([13, 14, 15, 12]), Set([2, 11, 0, 7, 9, 10, 8, 6, 4, 3, 5, 13, 14, 15, 12, 1]), Set([13, 14, 15, 12]), Set([9, 13, 11, 15]), Set([13, 10, 8, 15]), Set([9, 13, 11, 15]), Set([13, 10, 8, 15]), Set([7, 13, 5, 15]), Set([4, 13, 15, 6]), Set([7, 13, 5, 15]), Set([4, 13, 15, 6]), Set([13, 3, 15, 1]), Set([0, 13, 2, 15]), Set([13, 3, 15, 1]), Set([0, 13, 2, 15])]\n",
      "testing for beast for inp=13 intersection of all is Set([13, 15])\n",
      "Any[Set([13, 14, 15, 12]), Set([2, 11, 0, 7, 9, 10, 8, 6, 4, 3, 5, 13, 14, 15, 12, 1]), Set([13, 14, 15, 12]), Set([14, 10, 8, 12]), Set([9, 14, 11, 12]), Set([14, 10, 8, 12]), Set([9, 14, 11, 12]), Set([4, 14, 6, 12]), Set([7, 14, 5, 12]), Set([4, 14, 6, 12]), Set([7, 14, 5, 12]), Set([0, 14, 2, 12]), Set([14, 3, 12, 1]), Set([0, 14, 2, 12]), Set([14, 3, 12, 1])]\n",
      "testing for beast for inp=14 intersection of all is Set([14, 12])\n",
      "Any[Set([13, 14, 15, 12]), Set([2, 11, 0, 7, 9, 10, 8, 6, 4, 3, 5, 13, 14, 15, 12, 1]), Set([13, 14, 15, 12]), Set([9, 13, 11, 15]), Set([13, 10, 8, 15]), Set([9, 13, 11, 15]), Set([13, 10, 8, 15]), Set([7, 13, 5, 15]), Set([4, 13, 15, 6]), Set([7, 13, 5, 15]), Set([4, 13, 15, 6]), Set([13, 3, 15, 1]), Set([0, 13, 2, 15]), Set([13, 3, 15, 1]), Set([0, 13, 2, 15])]\n",
      "testing for beast for inp=15 intersection of all is Set([13, 15])\n"
     ]
    },
    {
     "data": {
      "text/plain": [
       "Dict{Any,Any} with 16 entries:\n",
       "  2  => (Inf, Any[])\n",
       "  11 => (Inf, Any[])\n",
       "  0  => (Inf, Any[])\n",
       "  7  => (Inf, Any[])\n",
       "  9  => (Inf, Any[])\n",
       "  10 => (Inf, Any[])\n",
       "  8  => (Inf, Any[])\n",
       "  6  => (Inf, Any[])\n",
       "  4  => (Inf, Any[])\n",
       "  3  => (Inf, Any[])\n",
       "  5  => (Inf, Any[])\n",
       "  13 => (Inf, Any[])\n",
       "  14 => (Inf, Any[])\n",
       "  15 => (Inf, Any[])\n",
       "  12 => (Inf, Any[])\n",
       "  1  => (Inf, Any[])"
      ]
     },
     "execution_count": 60,
     "metadata": {},
     "output_type": "execute_result"
    }
   ],
   "source": [
    "#for each input of the sbox I need to figure out the fault_in values that I need to \n",
    "#implement if I were to correctly figure out the input value\n",
    "#now I will figure out the minimum value of faults needed to get the correct input for \n",
    "#each of the input one by one\n",
    "#consider input i, now for this the at any given pair of (fault_in,fault_out) there will be \n",
    "#multiple values of inputs, I need to check the intersection of the set of these input\n",
    "#values for different fault_in\n",
    "minFaultsForInp = Dict() #for every inp it will contain a pair (minnumFault, possibleFaults)\n",
    "for inp in 0:15\n",
    "    #creating a list such that the information \n",
    "    vals_in_same_f_in = []\n",
    "    for f_in in 1:15\n",
    "        L_fout = L[f_in]\n",
    "        findoutputdelta(x) = in(inp, Set(L_fout[x]))\n",
    "        f_out = find(findoutputdelta, 1:15)[1]\n",
    "        push!(vals_in_same_f_in, Set(L_fout[f_out]))\n",
    "    end\n",
    "    println(vals_in_same_f_in)\n",
    "    println(\"testing for beast for inp=$(inp) intersection of all is $(set_intersection(vals_in_same_f_in))\")\n",
    "    allPosComb = allSubsetAllComb(15) #i dont have to check for 1 or 16\n",
    "    #checking different combination sizes one by one\n",
    "    inpDone = false #inisitialising\n",
    "    minReqFaultIn = Inf#initialising\n",
    "    fault_sol = []\n",
    "    for k in 2:15\n",
    "        combk = allPosComb[k]\n",
    "        for faultvals in combk\n",
    "            if length(set_intersection(vals_in_same_f_in[faultvals])) == 1\n",
    "                minReqFaultIn = k\n",
    "                fault_sol = faultvals\n",
    "                inpDone = true\n",
    "                break\n",
    "            end\n",
    "        end\n",
    "        if inpDone\n",
    "            break\n",
    "        end\n",
    "    end\n",
    "    minFaultsForInp[inp] = (minReqFaultIn, fault_sol)\n",
    "end\n",
    "minFaultsForInp "
   ]
  },
  {
   "cell_type": "code",
   "execution_count": 57,
   "metadata": {},
   "outputs": [
    {
     "name": "stderr",
     "output_type": "stream",
     "text": [
      "\u001b[1m\u001b[33mWARNING: \u001b[39m\u001b[22m\u001b[33m`x $ y` is deprecated.  use `xor(x, y)` or `x ⊻ y` instead.\u001b[39m\n",
      "Stacktrace:\n",
      " [1] \u001b[1mdepwarn\u001b[22m\u001b[22m\u001b[1m(\u001b[22m\u001b[22m::String, ::Symbol\u001b[1m)\u001b[22m\u001b[22m at \u001b[1m./deprecated.jl:70\u001b[22m\u001b[22m\n",
      " [2] \u001b[1m$\u001b[22m\u001b[22m\u001b[1m(\u001b[22m\u001b[22m::Int64, ::Int64\u001b[1m)\u001b[22m\u001b[22m at \u001b[1m./deprecated.jl:376\u001b[22m\u001b[22m\n",
      " [3] \u001b[1minclude_string\u001b[22m\u001b[22m\u001b[1m(\u001b[22m\u001b[22m::String, ::String\u001b[1m)\u001b[22m\u001b[22m at \u001b[1m./loading.jl:515\u001b[22m\u001b[22m\n",
      " [4] \u001b[1mexecute_request\u001b[22m\u001b[22m\u001b[1m(\u001b[22m\u001b[22m::ZMQ.Socket, ::IJulia.Msg\u001b[1m)\u001b[22m\u001b[22m at \u001b[1m/home/hesl/.julia/v0.6/IJulia/src/execute_request.jl:160\u001b[22m\u001b[22m\n",
      " [5] \u001b[1meventloop\u001b[22m\u001b[22m\u001b[1m(\u001b[22m\u001b[22m::ZMQ.Socket\u001b[1m)\u001b[22m\u001b[22m at \u001b[1m/home/hesl/.julia/v0.6/IJulia/src/eventloop.jl:8\u001b[22m\u001b[22m\n",
      " [6] \u001b[1m(::IJulia.##11#14)\u001b[22m\u001b[22m\u001b[1m(\u001b[22m\u001b[22m\u001b[1m)\u001b[22m\u001b[22m at \u001b[1m./task.jl:335\u001b[22m\u001b[22m\n",
      "while loading In[57], in expression starting on line 1\n"
     ]
    },
    {
     "data": {
      "text/plain": [
       "2"
      ]
     },
     "execution_count": 57,
     "metadata": {},
     "output_type": "execute_result"
    }
   ],
   "source": [
    "1$3"
   ]
  },
  {
   "cell_type": "code",
   "execution_count": 67,
   "metadata": {
    "scrolled": true
   },
   "outputs": [
    {
     "data": {
      "text/plain": [
       "302-element DataArrays.DataArray{String,1}:\n",
       " \"401F2B6739A5CDE8\"\n",
       " \"801C256943AB7DEF\"\n",
       " \"801CF56743AB9DE2\"\n",
       " \"20183D6749A5CBEF\"\n",
       " \"20183F67495BCDEA\"\n",
       " \"20183B6749AFCDE5\"\n",
       " \"48123B6709AECD5F\"\n",
       " \"801925D746ABC3EF\"\n",
       " \"8E1235674CAB9D0F\"\n",
       " \"8E12356749FBCD0A\"\n",
       " \"8F1235C749AB6DE0\"\n",
       " \"8F12356D49ABC7E0\"\n",
       " \"C019354762AB8DEF\"\n",
       " ⋮                 \n",
       " \"2013546789ABCDEF\"\n",
       " \"2013456789ABCDEF\"\n",
       " \"80A23517496BCDEF\"\n",
       " \"40132567C89BADEF\"\n",
       " \"40623517A98BCDEF\"\n",
       " \"4062351789ABCDEF\"\n",
       " \"2013645789ABCDEF\"\n",
       " \"3012654789ABCDEF\"\n",
       " \"3012456789ABCDEF\"\n",
       " \"1023456789ABCDEF\"\n",
       " \"1032456789ABCDEF\"\n",
       " \"0123456789ABCDEF\""
      ]
     },
     "execution_count": 67,
     "metadata": {},
     "output_type": "execute_result"
    }
   ],
   "source": [
    "#reading phd sbox\n",
    "using DataFrames\n",
    "sboxes = readtable(\"./test2.csv\",header = false);\n",
    "sboxes = sboxes[1]"
   ]
  },
  {
   "cell_type": "code",
   "execution_count": 83,
   "metadata": {},
   "outputs": [
    {
     "data": {
      "text/plain": [
       "sboxMinFault (generic function with 1 method)"
      ]
     },
     "execution_count": 83,
     "metadata": {},
     "output_type": "execute_result"
    }
   ],
   "source": [
    "function sboxMinFault(sboxstr)\n",
    "    sbox = string2sbox(sboxstr, 1)\n",
    "    sbox_ddt = ddt(sbox,4,4)\n",
    "    DU = sbox_du(sbox_ddt)\n",
    "    #faults input value will be from 1...15\n",
    "    #for every input value from 0...15, I need to know for input fault what out put they will produce\n",
    "    #for every sbox I will have a list, such that the elemt of a list(representing the fault_inp)\n",
    "    #is dictionary with key being the outp and the elemnts being the input values which \n",
    "    #satisfy the pair (fault_inp,fault_out)\n",
    "    L = []#the above mentioned list \n",
    "    for fault_in in 1:15\n",
    "        D = Dict( )\n",
    "        for f in 1:15\n",
    "            D[f] = Int[]\n",
    "        end\n",
    "        for inp in 0:15\n",
    "            outp = sbox[inp+1]\n",
    "            outp_ = sbox[(inp$fault_in)+1]\n",
    "            fault_out = outp$outp_\n",
    "            push!(D[fault_out], inp)\n",
    "        end\n",
    "        push!(L,D)\n",
    "    end\n",
    "    #for each input of the sbox I need to figure out the fault_in values that I need to \n",
    "    #implement if I were to correctly figure out the input value\n",
    "    #now I will figure out the minimum value of faults needed to get the correct input for \n",
    "    #each of the input one by one\n",
    "    #consider input i, now for this the at any given pair of (fault_in,fault_out) there will be \n",
    "    #multiple values of inputs, I need to check the intersection of the set of these input\n",
    "    #values for different fault_in\n",
    "    minFaultsForInp = Dict() #for every inp it will contain a pair (minnumFault, possibleFaults)\n",
    "    for inp in 0:15\n",
    "        #creating a list such that the information \n",
    "        vals_in_same_f_in = []\n",
    "        for f_in in 1:15\n",
    "            L_fout = L[f_in]\n",
    "            findoutputdelta(x) = in(inp, Set(L_fout[x]))\n",
    "            f_out = find(findoutputdelta, 1:15)[1]\n",
    "            push!(vals_in_same_f_in, Set(L_fout[f_out]))\n",
    "        end\n",
    "        #println(vals_in_same_f_in)\n",
    "        #println(\"testing for beast for inp=$(inp) intersection of all is $(set_intersection(vals_in_same_f_in))\")\n",
    "        allPosComb = allSubsetAllComb(15) #i dont have to check for 1 or 16\n",
    "        #checking different combination sizes one by one\n",
    "        inpDone = false #inisitialising\n",
    "        minReqFaultIn = Inf#initialising\n",
    "        fault_sol = []\n",
    "        for k in 2:15\n",
    "            combk = allPosComb[k]\n",
    "            for faultvals in combk\n",
    "                if length(set_intersection(vals_in_same_f_in[faultvals])) == 1\n",
    "                    minReqFaultIn = k\n",
    "                    fault_sol = faultvals\n",
    "                    inpDone = true\n",
    "                    break\n",
    "                end\n",
    "            end\n",
    "            if inpDone\n",
    "                break\n",
    "            end\n",
    "        end\n",
    "        minFaultsForInp[inp] = (minReqFaultIn, fault_sol)\n",
    "    end\n",
    "    minFaultsForInpArr = [minFaultsForInp[i] for i in 1:15]\n",
    "    getNumFault(x) = x[1]\n",
    "    numFaults = map(getNumFault, minFaultsForInpArr)\n",
    "    minFault = minimum(numFaults)\n",
    "    avgFault = mean(numFaults)\n",
    "    \n",
    "    return (DU, avgFault, minFault)\n",
    "    #findInf(x) = numFaults[x]==Inf\n",
    "    #infPos = find(findInf, 1:15)\n",
    "    #numFaults[infPos] = -1\n",
    "end"
   ]
  },
  {
   "cell_type": "code",
   "execution_count": 89,
   "metadata": {},
   "outputs": [
    {
     "name": "stderr",
     "output_type": "stream",
     "text": [
      "\u001b[1m\u001b[33mWARNING: \u001b[39m\u001b[22m\u001b[33m`x $ y` is deprecated.  use `xor(x, y)` or `x ⊻ y` instead.\u001b[39m\n",
      "Stacktrace:\n",
      " [1] \u001b[1mdepwarn\u001b[22m\u001b[22m\u001b[1m(\u001b[22m\u001b[22m::String, ::Symbol\u001b[1m)\u001b[22m\u001b[22m at \u001b[1m./deprecated.jl:70\u001b[22m\u001b[22m\n",
      " [2] \u001b[1m$\u001b[22m\u001b[22m at \u001b[1m./deprecated.jl:376\u001b[22m\u001b[22m [inlined]\n",
      " [3] \u001b[1mddt\u001b[22m\u001b[22m\u001b[1m(\u001b[22m\u001b[22m::Array{UInt8,1}, ::Int64, ::Int64\u001b[1m)\u001b[22m\u001b[22m at \u001b[1m/home/hesl/.julia/v0.6/zypto/src/sbox_utilities.jl:25\u001b[22m\u001b[22m\n",
      " [4] \u001b[1msboxMinFault\u001b[22m\u001b[22m\u001b[1m(\u001b[22m\u001b[22m::String\u001b[1m)\u001b[22m\u001b[22m at \u001b[1m./In[83]:3\u001b[22m\u001b[22m\n",
      " [5] \u001b[1mmacro expansion\u001b[22m\u001b[22m at \u001b[1m./In[89]:5\u001b[22m\u001b[22m [inlined]\n",
      " [6] \u001b[1manonymous\u001b[22m\u001b[22m at \u001b[1m./<missing>:?\u001b[22m\u001b[22m\n",
      " [7] \u001b[1minclude_string\u001b[22m\u001b[22m\u001b[1m(\u001b[22m\u001b[22m::String, ::String\u001b[1m)\u001b[22m\u001b[22m at \u001b[1m./loading.jl:515\u001b[22m\u001b[22m\n",
      " [8] \u001b[1mexecute_request\u001b[22m\u001b[22m\u001b[1m(\u001b[22m\u001b[22m::ZMQ.Socket, ::IJulia.Msg\u001b[1m)\u001b[22m\u001b[22m at \u001b[1m/home/hesl/.julia/v0.6/IJulia/src/execute_request.jl:160\u001b[22m\u001b[22m\n",
      " [9] \u001b[1meventloop\u001b[22m\u001b[22m\u001b[1m(\u001b[22m\u001b[22m::ZMQ.Socket\u001b[1m)\u001b[22m\u001b[22m at \u001b[1m/home/hesl/.julia/v0.6/IJulia/src/eventloop.jl:8\u001b[22m\u001b[22m\n",
      " [10] \u001b[1m(::IJulia.##11#14)\u001b[22m\u001b[22m\u001b[1m(\u001b[22m\u001b[22m\u001b[1m)\u001b[22m\u001b[22m at \u001b[1m./task.jl:335\u001b[22m\u001b[22m\n",
      "while loading In[89], in expression starting on line 4\n",
      "\u001b[1m\u001b[33mWARNING: \u001b[39m\u001b[22m\u001b[33m`x $ y` is deprecated.  use `xor(x, y)` or `x ⊻ y` instead.\u001b[39m\n",
      "Stacktrace:\n",
      " [1] \u001b[1mdepwarn\u001b[22m\u001b[22m\u001b[1m(\u001b[22m\u001b[22m::String, ::Symbol\u001b[1m)\u001b[22m\u001b[22m at \u001b[1m./deprecated.jl:70\u001b[22m\u001b[22m\n",
      " [2] \u001b[1m$\u001b[22m\u001b[22m at \u001b[1m./deprecated.jl:376\u001b[22m\u001b[22m [inlined]\n",
      " [3] \u001b[1msboxMinFault\u001b[22m\u001b[22m\u001b[1m(\u001b[22m\u001b[22m::String\u001b[1m)\u001b[22m\u001b[22m at \u001b[1m./In[83]:18\u001b[22m\u001b[22m\n",
      " [4] \u001b[1mmacro expansion\u001b[22m\u001b[22m at \u001b[1m./In[89]:5\u001b[22m\u001b[22m [inlined]\n",
      " [5] \u001b[1manonymous\u001b[22m\u001b[22m at \u001b[1m./<missing>:?\u001b[22m\u001b[22m\n",
      " [6] \u001b[1minclude_string\u001b[22m\u001b[22m\u001b[1m(\u001b[22m\u001b[22m::String, ::String\u001b[1m)\u001b[22m\u001b[22m at \u001b[1m./loading.jl:515\u001b[22m\u001b[22m\n",
      " [7] \u001b[1mexecute_request\u001b[22m\u001b[22m\u001b[1m(\u001b[22m\u001b[22m::ZMQ.Socket, ::IJulia.Msg\u001b[1m)\u001b[22m\u001b[22m at \u001b[1m/home/hesl/.julia/v0.6/IJulia/src/execute_request.jl:160\u001b[22m\u001b[22m\n",
      " [8] \u001b[1meventloop\u001b[22m\u001b[22m\u001b[1m(\u001b[22m\u001b[22m::ZMQ.Socket\u001b[1m)\u001b[22m\u001b[22m at \u001b[1m/home/hesl/.julia/v0.6/IJulia/src/eventloop.jl:8\u001b[22m\u001b[22m\n",
      " [9] \u001b[1m(::IJulia.##11#14)\u001b[22m\u001b[22m\u001b[1m(\u001b[22m\u001b[22m\u001b[1m)\u001b[22m\u001b[22m at \u001b[1m./task.jl:335\u001b[22m\u001b[22m\n",
      "while loading In[89], in expression starting on line 4\n",
      "\u001b[1m\u001b[33mWARNING: \u001b[39m\u001b[22m\u001b[33m`x $ y` is deprecated.  use `xor(x, y)` or `x ⊻ y` instead.\u001b[39m\n",
      "Stacktrace:\n",
      " [1] \u001b[1mdepwarn\u001b[22m\u001b[22m\u001b[1m(\u001b[22m\u001b[22m::String, ::Symbol\u001b[1m)\u001b[22m\u001b[22m at \u001b[1m./deprecated.jl:70\u001b[22m\u001b[22m\n",
      " [2] \u001b[1m$\u001b[22m\u001b[22m\u001b[1m(\u001b[22m\u001b[22m::UInt8, ::UInt8\u001b[1m)\u001b[22m\u001b[22m at \u001b[1m./deprecated.jl:376\u001b[22m\u001b[22m\n",
      " [3] \u001b[1msboxMinFault\u001b[22m\u001b[22m\u001b[1m(\u001b[22m\u001b[22m::String\u001b[1m)\u001b[22m\u001b[22m at \u001b[1m./In[83]:19\u001b[22m\u001b[22m\n",
      " [4] \u001b[1mmacro expansion\u001b[22m\u001b[22m at \u001b[1m./In[89]:5\u001b[22m\u001b[22m [inlined]\n",
      " [5] \u001b[1manonymous\u001b[22m\u001b[22m at \u001b[1m./<missing>:?\u001b[22m\u001b[22m\n",
      " [6] \u001b[1minclude_string\u001b[22m\u001b[22m\u001b[1m(\u001b[22m\u001b[22m::String, ::String\u001b[1m)\u001b[22m\u001b[22m at \u001b[1m./loading.jl:515\u001b[22m\u001b[22m\n",
      " [7] \u001b[1mexecute_request\u001b[22m\u001b[22m\u001b[1m(\u001b[22m\u001b[22m::ZMQ.Socket, ::IJulia.Msg\u001b[1m)\u001b[22m\u001b[22m at \u001b[1m/home/hesl/.julia/v0.6/IJulia/src/execute_request.jl:160\u001b[22m\u001b[22m\n",
      " [8] \u001b[1meventloop\u001b[22m\u001b[22m\u001b[1m(\u001b[22m\u001b[22m::ZMQ.Socket\u001b[1m)\u001b[22m\u001b[22m at \u001b[1m/home/hesl/.julia/v0.6/IJulia/src/eventloop.jl:8\u001b[22m\u001b[22m\n",
      " [9] \u001b[1m(::IJulia.##11#14)\u001b[22m\u001b[22m\u001b[1m(\u001b[22m\u001b[22m\u001b[1m)\u001b[22m\u001b[22m at \u001b[1m./task.jl:335\u001b[22m\u001b[22m\n",
      "while loading In[89], in expression starting on line 4\n"
     ]
    }
   ],
   "source": [
    "du_arr = Int[]\n",
    "av_arr = []\n",
    "min_arr = []\n",
    "for i in 1:302\n",
    "    res = sboxMinFault(sboxes[i])\n",
    "    \n",
    "    push!(du_arr,res[1])\n",
    "    push!(av_arr,res[2])\n",
    "    push!(min_arr,res[3])\n",
    "end\n",
    "final_res = DataFrame()\n",
    "final_res[:sbox] = sboxes\n",
    "final_res[:DU] = du_arr\n",
    "final_res[:avg_num_fault] = av_arr\n",
    "final_res[:min_num_fault] = min_arr\n",
    "writetable(\"./testres.csv\", final_res, header=true)"
   ]
  },
  {
   "cell_type": "code",
   "execution_count": 77,
   "metadata": {},
   "outputs": [
    {
     "data": {
      "text/plain": [
       "15-element Array{Float64,1}:\n",
       " 0.0\n",
       " 0.0\n",
       " 0.0\n",
       " 0.0\n",
       " 0.0\n",
       " 0.0\n",
       " 0.0\n",
       " 0.0\n",
       " 0.0\n",
       " 0.0\n",
       " 0.0\n",
       " 0.0\n",
       " 0.0\n",
       " 0.0\n",
       " 0.0"
      ]
     },
     "execution_count": 77,
     "metadata": {},
     "output_type": "execute_result"
    }
   ],
   "source": [
    "minFaultsForInpArr = [minFaultsForInp[i] for i in 1:15]\n",
    "getNumFault(x) = x[1]\n",
    "numFaults = map(getNumFault, minFaultsForInpArr)\n",
    "findInf(x) = numFaults[x]==Inf\n",
    "infPos = find(findInf, 1:15)\n",
    "numFaults[infPos] = 0\n",
    "numFaults"
   ]
  },
  {
   "cell_type": "code",
   "execution_count": 79,
   "metadata": {},
   "outputs": [
    {
     "data": {
      "text/plain": [
       "2"
      ]
     },
     "execution_count": 79,
     "metadata": {},
     "output_type": "execute_result"
    }
   ],
   "source": [
    "minimum([2,6,7,19])"
   ]
  }
 ],
 "metadata": {
  "kernelspec": {
   "display_name": "Julia 0.6.0",
   "language": "julia",
   "name": "julia-0.6"
  },
  "language_info": {
   "file_extension": ".jl",
   "mimetype": "application/julia",
   "name": "julia",
   "version": "0.6.0"
  },
  "widgets": {
   "state": {},
   "version": "1.1.2"
  }
 },
 "nbformat": 4,
 "nbformat_minor": 2
}
