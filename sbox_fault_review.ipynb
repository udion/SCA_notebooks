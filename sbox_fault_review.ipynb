{
 "cells": [
  {
   "cell_type": "code",
   "execution_count": 1,
   "metadata": {
    "collapsed": true
   },
   "outputs": [],
   "source": [
    "#only cosidering first 4*4 sbox"
   ]
  },
  {
   "cell_type": "code",
   "execution_count": 2,
   "metadata": {
    "collapsed": false
   },
   "outputs": [
    {
     "name": "stderr",
     "output_type": "stream",
     "text": [
      "WARNING: Method definition describe(AbstractArray) in module StatsBase at /home/ud/.julia/v0.5/StatsBase/src/scalarstats.jl:573 overwritten in module DataFrames at /home/ud/.julia/v0.5/DataFrames/src/abstractdataframe/abstractdataframe.jl:407.\n"
     ]
    },
    {
     "data": {
      "text/plain": [
       "PyPlot"
      ]
     },
     "execution_count": 2,
     "metadata": {},
     "output_type": "execute_result"
    }
   ],
   "source": [
    "using zypto\n",
    "using DataFrames\n",
    "using PyPlot\n",
    "plt = PyPlot"
   ]
  },
  {
   "cell_type": "code",
   "execution_count": 3,
   "metadata": {
    "collapsed": true
   },
   "outputs": [],
   "source": [
    "sbox = [0xC, 0x5, 0x6, 0xB, 0x9, 0x0, 0xA, 0xD, \n",
    "0x3, 0xE, 0xF, 0x8, 0x4, 0x7, 0x1, 0x2];#this will be the sbox under consideration"
   ]
  },
  {
   "cell_type": "code",
   "execution_count": 4,
   "metadata": {
    "collapsed": false
   },
   "outputs": [],
   "source": [
    "#faults input value will be from 1...15\n",
    "#for every input value from 0...15, I need to know for input fault what out put they will produce\n",
    "#for every sbox I will have a list, such that the elemt of a list(representing the fault_inp)\n",
    "#is dictionary with key being the outp and the elemnts being the input values which \n",
    "#satisfy the pair (fault_inp,fault_out)\n",
    "L = []#the above mentioned list \n",
    "for fault_in in 1:15\n",
    "    D = Dict( )\n",
    "    for f in 1:15\n",
    "        D[f] = Int[]\n",
    "    end\n",
    "    for inp in 0:15\n",
    "        outp = sbox[inp+1]\n",
    "        outp_ = sbox[(inp$fault_in)+1]\n",
    "        fault_out = outp$outp_\n",
    "        push!(D[fault_out], inp)\n",
    "    end\n",
    "    push!(L,D)\n",
    "end "
   ]
  },
  {
   "cell_type": "code",
   "execution_count": 5,
   "metadata": {
    "collapsed": false
   },
   "outputs": [
    {
     "data": {
      "text/plain": [
       "Dict{Any,Any} with 15 entries:\n",
       "  2  => Int64[]\n",
       "  11 => Int64[]\n",
       "  7  => [6,7,10,11]\n",
       "  9  => [0,1,4,5]\n",
       "  10 => Int64[]\n",
       "  8  => Int64[]\n",
       "  6  => Int64[]\n",
       "  4  => Int64[]\n",
       "  3  => [12,13,14,15]\n",
       "  5  => Int64[]\n",
       "  13 => [2,3,8,9]\n",
       "  14 => Int64[]\n",
       "  15 => Int64[]\n",
       "  12 => Int64[]\n",
       "  1  => Int64[]"
      ]
     },
     "execution_count": 5,
     "metadata": {},
     "output_type": "execute_result"
    }
   ],
   "source": [
    "L[1]"
   ]
  },
  {
   "cell_type": "code",
   "execution_count": 6,
   "metadata": {
    "collapsed": false
   },
   "outputs": [
    {
     "data": {
      "text/plain": [
       "Dict{Any,Any} with 15 entries:\n",
       "  2  => Int64[]\n",
       "  11 => Int64[]\n",
       "  7  => Int64[]\n",
       "  9  => Int64[]\n",
       "  10 => [0,2]\n",
       "  8  => Int64[]\n",
       "  6  => [9,11]\n",
       "  4  => Int64[]\n",
       "  3  => [4,6]\n",
       "  5  => [12,13,14,15]\n",
       "  13 => [5,7]\n",
       "  14 => [1,3]\n",
       "  15 => Int64[]\n",
       "  12 => [8,10]\n",
       "  1  => Int64[]"
      ]
     },
     "execution_count": 6,
     "metadata": {},
     "output_type": "execute_result"
    }
   ],
   "source": [
    "L[2]"
   ]
  },
  {
   "cell_type": "code",
   "execution_count": 7,
   "metadata": {
    "collapsed": false
   },
   "outputs": [
    {
     "data": {
      "text/plain": [
       "Dict{Any,Any} with 15 entries:\n",
       "  2  => Int64[]\n",
       "  11 => [8,11]\n",
       "  7  => [0,3]\n",
       "  9  => Int64[]\n",
       "  10 => [5,6]\n",
       "  8  => Int64[]\n",
       "  6  => [12,13,14,15]\n",
       "  4  => [4,7]\n",
       "  3  => [1,2]\n",
       "  5  => Int64[]\n",
       "  13 => Int64[]\n",
       "  14 => Int64[]\n",
       "  15 => Int64[]\n",
       "  12 => Int64[]\n",
       "  1  => [9,10]"
      ]
     },
     "execution_count": 7,
     "metadata": {},
     "output_type": "execute_result"
    }
   ],
   "source": [
    "L[3]"
   ]
  },
  {
   "cell_type": "code",
   "execution_count": 8,
   "metadata": {
    "collapsed": false
   },
   "outputs": [
    {
     "data": {
      "text/plain": [
       "Dict{Any,Any} with 15 entries:\n",
       "  2  => Int64[]\n",
       "  11 => Int64[]\n",
       "  7  => [8,12]\n",
       "  9  => [9,13]\n",
       "  10 => [11,15]\n",
       "  8  => Int64[]\n",
       "  6  => [3,7]\n",
       "  4  => Int64[]\n",
       "  3  => Int64[]\n",
       "  5  => [0,1,4,5]\n",
       "  13 => Int64[]\n",
       "  14 => [10,14]\n",
       "  15 => Int64[]\n",
       "  12 => [2,6]\n",
       "  1  => Int64[]"
      ]
     },
     "execution_count": 8,
     "metadata": {},
     "output_type": "execute_result"
    }
   ],
   "source": [
    "L[4]"
   ]
  },
  {
   "cell_type": "code",
   "execution_count": 9,
   "metadata": {
    "collapsed": false
   },
   "outputs": [
    {
     "data": {
      "text/plain": [
       "Dict{Any,Any} with 15 entries:\n",
       "  2  => Int64[]\n",
       "  11 => [2,7]\n",
       "  7  => Int64[]\n",
       "  9  => [11,14]\n",
       "  10 => [9,12]\n",
       "  8  => Int64[]\n",
       "  6  => Int64[]\n",
       "  4  => [8,13]\n",
       "  3  => Int64[]\n",
       "  5  => Int64[]\n",
       "  13 => [10,15]\n",
       "  14 => Int64[]\n",
       "  15 => Int64[]\n",
       "  12 => [0,1,4,5]\n",
       "  1  => [3,6]"
      ]
     },
     "execution_count": 9,
     "metadata": {},
     "output_type": "execute_result"
    }
   ],
   "source": [
    "L[5]"
   ]
  },
  {
   "cell_type": "code",
   "execution_count": 10,
   "metadata": {
    "collapsed": false
   },
   "outputs": [
    {
     "data": {
      "text/plain": [
       "Dict{Any,Any} with 15 entries:\n",
       "  2  => [8,14]\n",
       "  11 => [3,5,10,12]\n",
       "  7  => Int64[]\n",
       "  9  => Int64[]\n",
       "  10 => Int64[]\n",
       "  8  => [1,7]\n",
       "  6  => [0,6]\n",
       "  4  => Int64[]\n",
       "  3  => Int64[]\n",
       "  5  => Int64[]\n",
       "  13 => Int64[]\n",
       "  14 => Int64[]\n",
       "  15 => [2,4,11,13]\n",
       "  12 => [9,15]\n",
       "  1  => Int64[]"
      ]
     },
     "execution_count": 10,
     "metadata": {},
     "output_type": "execute_result"
    }
   ],
   "source": [
    "L[6]"
   ]
  },
  {
   "cell_type": "code",
   "execution_count": 11,
   "metadata": {
    "collapsed": false
   },
   "outputs": [
    {
     "data": {
      "text/plain": [
       "16×16 Array{Int64,2}:\n",
       " 16  0  0  0  0  0  0  0  0  0  0  0  0  0  0  0\n",
       "  0  0  0  4  0  0  0  4  0  4  0  0  0  4  0  0\n",
       "  0  0  0  2  0  4  2  0  0  0  2  0  2  2  2  0\n",
       "  0  2  0  2  2  0  4  2  0  0  2  2  0  0  0  0\n",
       "  0  0  0  0  0  4  2  2  0  2  2  0  2  0  2  0\n",
       "  0  2  0  0  2  0  0  0  0  2  2  2  4  2  0  0\n",
       "  0  0  2  0  0  0  2  0  2  0  0  4  2  0  0  4\n",
       "  0  4  2  0  0  0  2  0  2  0  0  0  2  0  0  4\n",
       "  0  0  0  2  0  0  0  2  0  2  0  4  0  2  0  4\n",
       "  0  0  2  0  4  0  2  0  2  0  0  0  2  0  4  0\n",
       "  0  0  2  2  0  4  0  0  2  0  2  0  0  2  2  0\n",
       "  0  2  0  0  2  0  0  0  4  2  2  2  0  2  0  0\n",
       "  0  0  2  0  0  4  0  2  2  2  2  0  0  0  2  0\n",
       "  0  2  4  2  2  0  0  2  0  0  2  2  0  0  0  0\n",
       "  0  0  2  2  0  0  2  2  2  2  0  0  2  2  0  0\n",
       "  0  4  0  0  4  0  0  0  0  0  0  0  0  0  4  4"
      ]
     },
     "execution_count": 11,
     "metadata": {},
     "output_type": "execute_result"
    }
   ],
   "source": [
    "ddt(sbox,4,4)"
   ]
  },
  {
   "cell_type": "code",
   "execution_count": 44,
   "metadata": {
    "collapsed": false
   },
   "outputs": [
    {
     "name": "stderr",
     "output_type": "stream",
     "text": [
      "WARNING: Method definition set_intersection(Any) in module Main at In[25]:3 overwritten at In[44]:3.\n"
     ]
    },
    {
     "data": {
      "text/plain": [
       "set_intersection (generic function with 2 methods)"
      ]
     },
     "execution_count": 44,
     "metadata": {},
     "output_type": "execute_result"
    }
   ],
   "source": [
    "#intersecting 2 set\n",
    "function set_intersection(listOfSets)\n",
    "    nSets = length(listOfSets)\n",
    "    intersection = listOfSets[1] #set representing the intersection at the beginning\n",
    "    for i in 2:nSets\n",
    "        a = intersection\n",
    "        b = listOfSets[i]\n",
    "        #println(\"a is $(a) b is $(b)\")\n",
    "        f(x) = in(x,a) & in(x,b)\n",
    "        intersection = Set(find(f, 0:15) - 1) #as for 4 X 4 these are the upper and lower bound\n",
    "        #-1 so that we get the value of x and not it's index\n",
    "        #println(\"intersection is $(intersection)\")\n",
    "    end\n",
    "    return intersection\n",
    "end"
   ]
  },
  {
   "cell_type": "code",
   "execution_count": 45,
   "metadata": {
    "collapsed": false
   },
   "outputs": [
    {
     "data": {
      "text/plain": [
       "Set([2,3])"
      ]
     },
     "execution_count": 45,
     "metadata": {},
     "output_type": "execute_result"
    }
   ],
   "source": [
    "set_intersection([Set([1,2,3]), Set([5,6,7,8,2,3]), Set([8,2,3])])"
   ]
  },
  {
   "cell_type": "code",
   "execution_count": 14,
   "metadata": {
    "collapsed": false
   },
   "outputs": [
    {
     "data": {
      "text/plain": [
       "allSubsetAllComb (generic function with 1 method)"
      ]
     },
     "execution_count": 14,
     "metadata": {},
     "output_type": "execute_result"
    }
   ],
   "source": [
    "function allSubsetAllComb(n)\n",
    "    sorted_list = [i for i in 1:n]\n",
    "    list_of_comb_of_all_sizes = []\n",
    "    size1 = [[a] for a in sorted_list]\n",
    "    sizen = [sorted_list]\n",
    "    push!(list_of_comb_of_all_sizes, size1) #first list inserted\n",
    "    \n",
    "    for k in 2:n-1\n",
    "        sizek = []\n",
    "        prev_k_list = list_of_comb_of_all_sizes[k-1]\n",
    "        #println(\"prev_k_list: \",prev_k_list)\n",
    "        for l in prev_k_list\n",
    "            last_ele = l[k-1]\n",
    "            for j in (last_ele+1):n\n",
    "                new_ele_sizek = [z for z in l]\n",
    "                #println(\"new_ele_sizek_interm: \",new_ele_sizek)\n",
    "                new_ele_sizek = push!(new_ele_sizek,j)\n",
    "                #println(\"new_ele_sizek\", new_ele_sizek)\n",
    "                push!(sizek, new_ele_sizek)\n",
    "            end\n",
    "        end\n",
    "        #println(\"sizek: \", sizek)\n",
    "        push!(list_of_comb_of_all_sizes,sizek)\n",
    "    end\n",
    "    push!(list_of_comb_of_all_sizes, sizen) #last element added\n",
    "    \n",
    "    return list_of_comb_of_all_sizes\n",
    "end"
   ]
  },
  {
   "cell_type": "code",
   "execution_count": 46,
   "metadata": {
    "collapsed": false
   },
   "outputs": [
    {
     "data": {
      "text/plain": [
       "Dict{Any,Any} with 16 entries:\n",
       "  2  => (2,[1,2])\n",
       "  11 => (2,[1,2])\n",
       "  0  => (2,[1,2])\n",
       "  7  => (2,[1,2])\n",
       "  9  => (2,[1,2])\n",
       "  10 => (2,[1,2])\n",
       "  8  => (2,[1,2])\n",
       "  6  => (2,[1,2])\n",
       "  4  => (2,[1,2])\n",
       "  3  => (2,[1,2])\n",
       "  5  => (2,[1,2])\n",
       "  13 => (2,[1,4])\n",
       "  14 => (2,[1,4])\n",
       "  15 => (2,[1,4])\n",
       "  12 => (2,[1,4])\n",
       "  1  => (2,[1,2])"
      ]
     },
     "execution_count": 46,
     "metadata": {},
     "output_type": "execute_result"
    }
   ],
   "source": [
    "#for each input of the sbox I need to figure out the fault_in values that I need to \n",
    "#implement if I were to correctly figure out the input value\n",
    "#now I will figure out the minimum value of faults needed to get the correct input for \n",
    "#each of the input one by one\n",
    "#consider input i, now for this the at any given pair of (fault_in,fault_out) there will be \n",
    "#multiple values of inputs, I need to check the intersection of the set of these input\n",
    "#values for different fault_in\n",
    "minFaultsForInp = Dict() #for every inp it will contain a pair (minnumFault, possibleFaults)\n",
    "for inp in 0:15\n",
    "    #creating a list such that the information \n",
    "    vals_in_same_f_in = []\n",
    "    for f_in in 1:15\n",
    "        L_fout = L[f_in]\n",
    "        findoutputdelta(x) = in(inp, Set(L_fout[x]))\n",
    "        f_out = find(findoutputdelta, 1:15)[1]\n",
    "        push!(vals_in_same_f_in, Set(L_fout[f_out]))\n",
    "    end\n",
    "    allPosComb = allSubsetAllComb(15) #i dont have to check for 1 or 16\n",
    "    #checking different combination sizes one by one\n",
    "    inpDone = false #inisitialising\n",
    "    minReqFaultIn = Inf#initialising\n",
    "    fault_sol = []\n",
    "    for k in 2:15\n",
    "        combk = allPosComb[k]\n",
    "        for faultvals in combk\n",
    "            if length(set_intersection(vals_in_same_f_in[faultvals])) == 1\n",
    "                minReqFaultIn = k\n",
    "                fault_sol = faultvals\n",
    "                inpDone = true\n",
    "                break\n",
    "            end\n",
    "        end\n",
    "        if inpDone\n",
    "            break\n",
    "        end\n",
    "    end\n",
    "    minFaultsForInp[inp] = (minReqFaultIn, fault_sol)\n",
    "end\n",
    "minFaultsForInp"
   ]
  }
 ],
 "metadata": {
  "kernelspec": {
   "display_name": "Julia 0.5.1",
   "language": "julia",
   "name": "julia-0.5"
  },
  "language_info": {
   "file_extension": ".jl",
   "mimetype": "application/julia",
   "name": "julia",
   "version": "0.5.2"
  },
  "widgets": {
   "state": {},
   "version": "1.1.2"
  }
 },
 "nbformat": 4,
 "nbformat_minor": 2
}
