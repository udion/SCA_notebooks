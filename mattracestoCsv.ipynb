{
 "cells": [
  {
   "cell_type": "code",
   "execution_count": 1,
   "metadata": {},
   "outputs": [
    {
     "name": "stderr",
     "output_type": "stream",
     "text": [
      "\u001b[1m\u001b[36mINFO: \u001b[39m\u001b[22m\u001b[36mPrecompiling module MAT.\n",
      "\u001b[39m"
     ]
    },
    {
     "data": {
      "text/plain": [
       "PyPlot"
      ]
     },
     "execution_count": 1,
     "metadata": {},
     "output_type": "execute_result"
    }
   ],
   "source": [
    "using MAT\n",
    "using PyPlot\n",
    "plt = PyPlot"
   ]
  },
  {
   "cell_type": "code",
   "execution_count": 2,
   "metadata": {},
   "outputs": [
    {
     "data": {
      "text/plain": [
       "MAT.MAT_v5.Matlabv5File(IOStream(<file ../traces2017-04-28_12_32_37/AES_traces_500K_Uprotected/traces10000.mat>), false, #undef)"
      ]
     },
     "execution_count": 2,
     "metadata": {},
     "output_type": "execute_result"
    }
   ],
   "source": [
    "f = matopen(\"../traces2017-04-28_12_32_37/AES_traces_500K_Uprotected/traces10000.mat\")"
   ]
  },
  {
   "cell_type": "code",
   "execution_count": 3,
   "metadata": {},
   "outputs": [
    {
     "data": {
      "text/plain": [
       "Base.KeyIterator for a Dict{String,Int64} with 2 entries. Keys:\n",
       "  \"ptexts\"\n",
       "  \"traces\""
      ]
     },
     "execution_count": 3,
     "metadata": {},
     "output_type": "execute_result"
    }
   ],
   "source": [
    "names(f)"
   ]
  },
  {
   "cell_type": "code",
   "execution_count": 4,
   "metadata": {},
   "outputs": [
    {
     "data": {
      "text/plain": [
       "5000×4 Array{UInt32,2}:\n",
       " 0x818fd393  0x40b52900  0x358317b3  0x7ad5186e\n",
       " 0xb42f461d  0x691b1f4a  0x7db490e4  0xb619c790\n",
       " 0x4955b91a  0xbaf376d9  0x3cee19fc  0x66d23271\n",
       " 0x5fac3093  0xd3ac4173  0x09745eeb  0xbf344a95\n",
       " 0x59988105  0x845f45bb  0xb5bc73f8  0x18d08cf7\n",
       " 0x0b460d31  0x6d6f7494  0xeb55e793  0x9599fa26\n",
       " 0xa4b70f71  0xee6c3d1c  0xfd8c04eb  0x2660d6b7\n",
       " 0x863500c9  0x62058376  0xbb223b0d  0xf2ddace9\n",
       " 0xd3c7215e  0x222d298b  0x2542d042  0xb758aafe\n",
       " 0xfb924b55  0x056c31ff  0xe0980cf5  0x61190c2c\n",
       " 0xf7958688  0x132915fb  0x0829c8f9  0x91d06f7b\n",
       " 0x78f6dde7  0x58fa65d6  0x63846b10  0x866c072d\n",
       " 0xca020d38  0x66e4ebb1  0x6f514c16  0x5e5afc89\n",
       "          ⋮                                    \n",
       " 0xfb5f7fb0  0x5a3a0bc7  0xe7aa729a  0x8a646d9c\n",
       " 0x73605f33  0x41929d34  0x7c5f9529  0x5d23802b\n",
       " 0x2eb63fbb  0x4394f180  0x4f617627  0x8f77e1b1\n",
       " 0x7fc561fa  0x9917a669  0x8ca086e4  0xb0fe5019\n",
       " 0xaea94659  0x82aa1f8c  0x1efd5c07  0xc67135c6\n",
       " 0xa4c29514  0xb8eb1d5f  0x2a326a29  0xc88c97e8\n",
       " 0x74a7d27e  0x13a0a341  0xad0b5dad  0x5d509d24\n",
       " 0xeae73bdc  0xc5e5d252  0x46d802c8  0x58e10ef3\n",
       " 0xaa703a9d  0x649eefdf  0xaacda8a4  0xb7127399\n",
       " 0x7ddaa66f  0xfa6b3004  0x316ddf88  0x0d6c3b22\n",
       " 0x7f4e7963  0xdc32aebc  0xb5f5ae35  0x117fb4e0\n",
       " 0x84e8764b  0x7a30783c  0x3b72d3a9  0x208d0b41"
      ]
     },
     "execution_count": 4,
     "metadata": {},
     "output_type": "execute_result"
    }
   ],
   "source": [
    "plaintexts = read(f,\"ptexts\")"
   ]
  },
  {
   "cell_type": "code",
   "execution_count": 7,
   "metadata": {},
   "outputs": [
    {
     "data": {
      "text/plain": [
       "4-element Array{UInt32,1}:\n",
       " 0x818fd393\n",
       " 0x40b52900\n",
       " 0x358317b3\n",
       " 0x7ad5186e"
      ]
     },
     "execution_count": 7,
     "metadata": {},
     "output_type": "execute_result"
    }
   ],
   "source": [
    "n = plaintexts[1,:]"
   ]
  },
  {
   "cell_type": "code",
   "execution_count": 12,
   "metadata": {},
   "outputs": [
    {
     "data": {
      "text/plain": [
       "\"818fd393\""
      ]
     },
     "execution_count": 12,
     "metadata": {},
     "output_type": "execute_result"
    }
   ],
   "source": [
    "hex(n[1],8)"
   ]
  },
  {
   "cell_type": "code",
   "execution_count": 13,
   "metadata": {},
   "outputs": [
    {
     "data": {
      "text/plain": [
       "unit32tohes128 (generic function with 1 method)"
      ]
     },
     "execution_count": 13,
     "metadata": {},
     "output_type": "execute_result"
    }
   ],
   "source": [
    "function unit32tohes128(n)\n",
    "    pt = \"\"\n",
    "    for i in 1:4\n",
    "        pt = join([hex(n[i],8) pt])\n",
    "    end\n",
    "    pt\n",
    "end"
   ]
  },
  {
   "cell_type": "code",
   "execution_count": 14,
   "metadata": {},
   "outputs": [
    {
     "data": {
      "text/plain": [
       "\"7ad5186e358317b340b52900818fd393\""
      ]
     },
     "execution_count": 14,
     "metadata": {},
     "output_type": "execute_result"
    }
   ],
   "source": [
    "unit32tohes128(n)"
   ]
  },
  {
   "cell_type": "code",
   "execution_count": 16,
   "metadata": {},
   "outputs": [
    {
     "data": {
      "text/plain": [
       "MAT.MAT_HDF5.MatlabHDF5File(HDF5 data file: /home/hesl/Downloads/plaintexts_20000traces_tr1234combined.mat, true, false, 0)"
      ]
     },
     "execution_count": 16,
     "metadata": {},
     "output_type": "execute_result"
    }
   ],
   "source": [
    "f1 = matopen(\"/home/hesl/Downloads/plaintexts_20000traces_tr1234combined.mat\")"
   ]
  },
  {
   "cell_type": "code",
   "execution_count": 17,
   "metadata": {},
   "outputs": [
    {
     "data": {
      "text/plain": [
       "1-element Array{String,1}:\n",
       " \"plaintexts\""
      ]
     },
     "execution_count": 17,
     "metadata": {},
     "output_type": "execute_result"
    }
   ],
   "source": [
    "names(f1)"
   ]
  },
  {
   "cell_type": "code",
   "execution_count": 19,
   "metadata": {},
   "outputs": [
    {
     "data": {
      "text/plain": [
       "20000×4 Array{UInt32,2}:\n",
       " 0x818fd393  0x40b52900  0x358317b3  0x7ad5186e\n",
       " 0xb42f461d  0x691b1f4a  0x7db490e4  0xb619c790\n",
       " 0x4955b91a  0xbaf376d9  0x3cee19fc  0x66d23271\n",
       " 0x5fac3093  0xd3ac4173  0x09745eeb  0xbf344a95\n",
       " 0x59988105  0x845f45bb  0xb5bc73f8  0x18d08cf7\n",
       " 0x0b460d31  0x6d6f7494  0xeb55e793  0x9599fa26\n",
       " 0xa4b70f71  0xee6c3d1c  0xfd8c04eb  0x2660d6b7\n",
       " 0x863500c9  0x62058376  0xbb223b0d  0xf2ddace9\n",
       " 0xd3c7215e  0x222d298b  0x2542d042  0xb758aafe\n",
       " 0xfb924b55  0x056c31ff  0xe0980cf5  0x61190c2c\n",
       " 0xf7958688  0x132915fb  0x0829c8f9  0x91d06f7b\n",
       " 0x78f6dde7  0x58fa65d6  0x63846b10  0x866c072d\n",
       " 0xca020d38  0x66e4ebb1  0x6f514c16  0x5e5afc89\n",
       "          ⋮                                    \n",
       " 0x266fa22b  0xb0c75774  0xb293eddf  0x3ac35ebb\n",
       " 0x23f1fbc1  0xe3628532  0xff62a85b  0x19a424b4\n",
       " 0x8efa937e  0xb9138618  0xe7076076  0x0e42ea59\n",
       " 0xe937e380  0x1bed97ba  0x36cf8ae8  0x56a75943\n",
       " 0x929ead37  0x08234413  0x59694bc1  0xe595eb33\n",
       " 0xfd1fb57e  0xb44bd3f3  0x006007ef  0xf8443cec\n",
       " 0x786c077f  0x3a8adb66  0x6a7b997c  0xde0d40ef\n",
       " 0x5eab91a0  0xc190cbda  0x8125e158  0x49b99184\n",
       " 0x1b36ad88  0x1f46c257  0x37979bfc  0xdbbb03b6\n",
       " 0xf0b609b8  0xc4f810f9  0x7011f307  0x63259ec6\n",
       " 0x076587fe  0x1d820b4c  0xcd64898e  0x04dbc9ab\n",
       " 0x40fbe782  0x6c3d632a  0xff767099  0xf0be502e"
      ]
     },
     "execution_count": 19,
     "metadata": {},
     "output_type": "execute_result"
    }
   ],
   "source": [
    "testingptexts = read(f1,\"plaintexts\")"
   ]
  }
 ],
 "metadata": {
  "kernelspec": {
   "display_name": "Julia 0.6.0",
   "language": "julia",
   "name": "julia-0.6"
  },
  "language_info": {
   "file_extension": ".jl",
   "mimetype": "application/julia",
   "name": "julia",
   "version": "0.6.0"
  }
 },
 "nbformat": 4,
 "nbformat_minor": 2
}
