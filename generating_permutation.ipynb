{
 "cells": [
  {
   "cell_type": "code",
   "execution_count": 11,
   "metadata": {
    "collapsed": true
   },
   "outputs": [],
   "source": [
    "#generating all possible combination of all subset possible of a list 1...n\n",
    "#this can be used to create all possible combination of all subset possible of list of \n",
    "#n distint element"
   ]
  },
  {
   "cell_type": "code",
   "execution_count": 37,
   "metadata": {
    "collapsed": false
   },
   "outputs": [
    {
     "data": {
      "text/plain": [
       "4-element Array{Array{Int64,1},1}:\n",
       " [1]\n",
       " [2]\n",
       " [3]\n",
       " [4]"
      ]
     },
     "execution_count": 37,
     "metadata": {},
     "output_type": "execute_result"
    }
   ],
   "source": [
    "l = []\n",
    "s =[i for i in 1:4]\n",
    "a = [[i] for i in s]\n",
    "push!(l,a)\n",
    "l[1]"
   ]
  },
  {
   "cell_type": "code",
   "execution_count": 50,
   "metadata": {
    "collapsed": false
   },
   "outputs": [
    {
     "name": "stderr",
     "output_type": "stream",
     "text": [
      "WARNING: Method definition allSubsetAllComb(Any) in module Main at In[46]:2 overwritten at In[50]:2.\n"
     ]
    },
    {
     "data": {
      "text/plain": [
       "allSubsetAllComb (generic function with 1 method)"
      ]
     },
     "execution_count": 50,
     "metadata": {},
     "output_type": "execute_result"
    }
   ],
   "source": [
    "function allSubsetAllComb(n)\n",
    "    sorted_list = [i for i in 1:n]\n",
    "    list_of_comb_of_all_sizes = []\n",
    "    size1 = [[a] for a in sorted_list]\n",
    "    sizen = [sorted_list]\n",
    "    push!(list_of_comb_of_all_sizes, size1) #first list inserted\n",
    "    \n",
    "    for k in 2:n-1\n",
    "        sizek = []\n",
    "        prev_k_list = list_of_comb_of_all_sizes[k-1]\n",
    "        #println(\"prev_k_list: \",prev_k_list)\n",
    "        for l in prev_k_list\n",
    "            last_ele = l[k-1]\n",
    "            for j in (last_ele+1):n\n",
    "                new_ele_sizek = [z for z in l]\n",
    "                #println(\"new_ele_sizek_interm: \",new_ele_sizek)\n",
    "                new_ele_sizek = push!(new_ele_sizek,j)\n",
    "                #println(\"new_ele_sizek\", new_ele_sizek)\n",
    "                push!(sizek, new_ele_sizek)\n",
    "            end\n",
    "        end\n",
    "        #println(\"sizek: \", sizek)\n",
    "        push!(list_of_comb_of_all_sizes,sizek)\n",
    "    end\n",
    "    push!(list_of_comb_of_all_sizes, sizen) #last element added\n",
    "    \n",
    "    return list_of_comb_of_all_sizes\n",
    "end"
   ]
  },
  {
   "cell_type": "code",
   "execution_count": 52,
   "metadata": {
    "collapsed": false
   },
   "outputs": [
    {
     "data": {
      "text/plain": [
       "4-element Array{Any,1}:\n",
       " Array{Int64,1}[[1],[2],[3],[4]]         \n",
       " Any[[1,2],[1,3],[1,4],[2,3],[2,4],[3,4]]\n",
       " Any[[1,2,3],[1,2,4],[1,3,4],[2,3,4]]    \n",
       " Array{Int64,1}[[1,2,3,4]]               "
      ]
     },
     "execution_count": 52,
     "metadata": {},
     "output_type": "execute_result"
    }
   ],
   "source": [
    "allSubsetAllComb(4)"
   ]
  },
  {
   "cell_type": "code",
   "execution_count": 53,
   "metadata": {
    "collapsed": false
   },
   "outputs": [
    {
     "data": {
      "text/plain": [
       "allSubsetAllCombGen (generic function with 1 method)"
      ]
     },
     "execution_count": 53,
     "metadata": {},
     "output_type": "execute_result"
    }
   ],
   "source": [
    "#trying to generalise it, i.e list of all possible combination of all possible subset of \n",
    "#a list of n dislint elements\n",
    "function allSubsetAllCombGen(list)\n",
    "    n = length(list)\n",
    "    listOfCombOfindexes = allSubsetAllComb(n)\n",
    "    \n",
    "    listOfCombOfAllSizes = []\n",
    "    for k in 1:n\n",
    "        listSizek = []\n",
    "        for k_indexes in listOfCombOfindexes[k]\n",
    "            println(\"list[k_indexes] \", list[k_indexes])\n",
    "            push!(listSizek, list[k_indexes])\n",
    "        end\n",
    "        push!(listOfCombOfAllSizes, listSizek)\n",
    "    end\n",
    "    \n",
    "    return listOfCombOfAllSizes\n",
    "end"
   ]
  },
  {
   "cell_type": "code",
   "execution_count": 54,
   "metadata": {
    "collapsed": false
   },
   "outputs": [
    {
     "name": "stdout",
     "output_type": "stream",
     "text": [
      "list[k_indexes] [23]\n",
      "list[k_indexes] [34]\n",
      "list[k_indexes] [21]\n",
      "list[k_indexes] [23,34]\n",
      "list[k_indexes] [23,21]\n",
      "list[k_indexes] [34,21]\n",
      "list[k_indexes] [23,34,21]\n"
     ]
    },
    {
     "data": {
      "text/plain": [
       "3-element Array{Any,1}:\n",
       " Any[[23],[34],[21]]         \n",
       " Any[[23,34],[23,21],[34,21]]\n",
       " Any[[23,34,21]]             "
      ]
     },
     "execution_count": 54,
     "metadata": {},
     "output_type": "execute_result"
    }
   ],
   "source": [
    "allSubsetAllCombGen([23,34,21])"
   ]
  }
 ],
 "metadata": {
  "kernelspec": {
   "display_name": "Julia 0.5.1",
   "language": "julia",
   "name": "julia-0.5"
  },
  "language_info": {
   "file_extension": ".jl",
   "mimetype": "application/julia",
   "name": "julia",
   "version": "0.5.2"
  },
  "widgets": {
   "state": {},
   "version": "1.1.2"
  }
 },
 "nbformat": 4,
 "nbformat_minor": 0
}
